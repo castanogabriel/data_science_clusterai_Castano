{
 "cells": [
  {
   "cell_type": "code",
   "execution_count": 1,
   "metadata": {},
   "outputs": [],
   "source": [
    "import pandas as pd\n",
    "import numpy as np\n",
    "import matplotlib.pyplot as plt \n",
    "import seaborn as sns\n",
    "from sklearn.preprocessing import StandardScaler \n",
    "from scipy.stats import norm\n",
    "from IPython.display import Image \n",
    "from sklearn import svm\n",
    "from sklearn.svm import SVC\n",
    "from sklearn.model_selection import train_test_split\n",
    "from sklearn.metrics import accuracy_score\n",
    "from sklearn.model_selection import cross_val_score\n",
    "from sklearn.metrics import roc_curve, auc\n",
    "from sklearn import metrics\n",
    "from sklearn.model_selection import GridSearchCV\n",
    "from sklearn.metrics import confusion_matrix\n",
    "from sklearn.neighbors import KNeighborsClassifier\n",
    "from sklearn.linear_model import LogisticRegression\n",
    "from scipy.stats import mannwhitneyu\n",
    "from sklearn.preprocessing import MinMaxScaler"
   ]
  },
  {
   "cell_type": "code",
   "execution_count": 2,
   "metadata": {},
   "outputs": [],
   "source": [
    "Categoria_panificados = pd.read_excel(r'C:\\Users\\gabri\\Desktop\\Ciencia de datos\\Panificados 2019\\Categoria panificados.xlsx')"
   ]
  },
  {
   "cell_type": "code",
   "execution_count": 3,
   "metadata": {},
   "outputs": [
    {
     "data": {
      "text/plain": [
       "(1756, 20)"
      ]
     },
     "execution_count": 3,
     "metadata": {},
     "output_type": "execute_result"
    }
   ],
   "source": [
    "np.shape(Categoria_panificados)"
   ]
  },
  {
   "cell_type": "code",
   "execution_count": 4,
   "metadata": {},
   "outputs": [],
   "source": [
    "Categoria_panificados= Categoria_panificados.drop(Categoria_panificados.columns[[1,2]],axis='columns')"
   ]
  },
  {
   "cell_type": "code",
   "execution_count": 5,
   "metadata": {},
   "outputs": [
    {
     "data": {
      "text/plain": [
       "(1756, 18)"
      ]
     },
     "execution_count": 5,
     "metadata": {},
     "output_type": "execute_result"
    }
   ],
   "source": [
    "np.shape(Categoria_panificados)"
   ]
  },
  {
   "cell_type": "code",
   "execution_count": 6,
   "metadata": {
    "scrolled": false
   },
   "outputs": [
    {
     "data": {
      "text/html": [
       "<div>\n",
       "<style scoped>\n",
       "    .dataframe tbody tr th:only-of-type {\n",
       "        vertical-align: middle;\n",
       "    }\n",
       "\n",
       "    .dataframe tbody tr th {\n",
       "        vertical-align: top;\n",
       "    }\n",
       "\n",
       "    .dataframe thead th {\n",
       "        text-align: right;\n",
       "    }\n",
       "</style>\n",
       "<table border=\"1\" class=\"dataframe\">\n",
       "  <thead>\n",
       "    <tr style=\"text-align: right;\">\n",
       "      <th></th>\n",
       "      <th>Unnamed: 0</th>\n",
       "      <th>IDRENGLON</th>\n",
       "      <th>ID_MUESTRA</th>\n",
       "      <th>CODIGO_EAN</th>\n",
       "      <th>MARCA</th>\n",
       "      <th>ID_VALIDO</th>\n",
       "      <th>STOCK_CD</th>\n",
       "      <th>PROVEEDOR</th>\n",
       "      <th>CADENA</th>\n",
       "      <th>ZONA</th>\n",
       "      <th>C_TAMANIO</th>\n",
       "      <th>IDROTACION</th>\n",
       "      <th>ENTREGA</th>\n",
       "      <th>IDALMACEN</th>\n",
       "      <th>FECHA_RELGS1</th>\n",
       "      <th>ANIO</th>\n",
       "      <th>QUIEBRE</th>\n",
       "      <th>CAT2</th>\n",
       "    </tr>\n",
       "  </thead>\n",
       "  <tbody>\n",
       "    <tr>\n",
       "      <td>0</td>\n",
       "      <td>213</td>\n",
       "      <td>1588646</td>\n",
       "      <td>11131</td>\n",
       "      <td>Producto 4711</td>\n",
       "      <td>Marca 1469</td>\n",
       "      <td>0</td>\n",
       "      <td>9</td>\n",
       "      <td>Proveedor 189</td>\n",
       "      <td>Cadena 5</td>\n",
       "      <td>CABA                                          ...</td>\n",
       "      <td>SUPER</td>\n",
       "      <td>2</td>\n",
       "      <td>DESCENTRALIZADA                               ...</td>\n",
       "      <td>N</td>\n",
       "      <td>2019-05-20</td>\n",
       "      <td>2019</td>\n",
       "      <td>0</td>\n",
       "      <td>PAN LACTAL</td>\n",
       "    </tr>\n",
       "    <tr>\n",
       "      <td>1</td>\n",
       "      <td>2304</td>\n",
       "      <td>1590781</td>\n",
       "      <td>11134</td>\n",
       "      <td>Producto 4711</td>\n",
       "      <td>Marca 1469</td>\n",
       "      <td>0</td>\n",
       "      <td>9</td>\n",
       "      <td>Proveedor 189</td>\n",
       "      <td>Cadena 5</td>\n",
       "      <td>GBA                                           ...</td>\n",
       "      <td>SUPER</td>\n",
       "      <td>2</td>\n",
       "      <td>DESCENTRALIZADA                               ...</td>\n",
       "      <td>N</td>\n",
       "      <td>2019-05-20</td>\n",
       "      <td>2019</td>\n",
       "      <td>0</td>\n",
       "      <td>PAN LACTAL</td>\n",
       "    </tr>\n",
       "    <tr>\n",
       "      <td>2</td>\n",
       "      <td>4343</td>\n",
       "      <td>1592973</td>\n",
       "      <td>11138</td>\n",
       "      <td>Producto 4711</td>\n",
       "      <td>Marca 1469</td>\n",
       "      <td>0</td>\n",
       "      <td>9</td>\n",
       "      <td>Proveedor 189</td>\n",
       "      <td>Cadena 5</td>\n",
       "      <td>CABA                                          ...</td>\n",
       "      <td>SUPER</td>\n",
       "      <td>2</td>\n",
       "      <td>DESCENTRALIZADA                               ...</td>\n",
       "      <td>N</td>\n",
       "      <td>2019-05-20</td>\n",
       "      <td>2019</td>\n",
       "      <td>0</td>\n",
       "      <td>PAN LACTAL</td>\n",
       "    </tr>\n",
       "    <tr>\n",
       "      <td>3</td>\n",
       "      <td>5405</td>\n",
       "      <td>1594067</td>\n",
       "      <td>11139</td>\n",
       "      <td>Producto 9062</td>\n",
       "      <td>Marca 1196</td>\n",
       "      <td>0</td>\n",
       "      <td>0</td>\n",
       "      <td>Proveedor 72</td>\n",
       "      <td>Cadena 11</td>\n",
       "      <td>TUCUMAN                                       ...</td>\n",
       "      <td>SUPER</td>\n",
       "      <td>3</td>\n",
       "      <td>DESCENTRALIZADA                               ...</td>\n",
       "      <td>N</td>\n",
       "      <td>2019-05-20</td>\n",
       "      <td>2019</td>\n",
       "      <td>0</td>\n",
       "      <td>PAN HAMBURGUESAS</td>\n",
       "    </tr>\n",
       "    <tr>\n",
       "      <td>4</td>\n",
       "      <td>5815</td>\n",
       "      <td>1594487</td>\n",
       "      <td>11140</td>\n",
       "      <td>Producto 7104</td>\n",
       "      <td>Marca 2136</td>\n",
       "      <td>0</td>\n",
       "      <td>0</td>\n",
       "      <td>Proveedor 474</td>\n",
       "      <td>Cadena 1</td>\n",
       "      <td>TUCUMAN                                       ...</td>\n",
       "      <td>SUPER</td>\n",
       "      <td>3</td>\n",
       "      <td>DESCENTRALIZADA                               ...</td>\n",
       "      <td>N</td>\n",
       "      <td>2019-05-20</td>\n",
       "      <td>2019</td>\n",
       "      <td>0</td>\n",
       "      <td>PAN HAMBURGUESAS</td>\n",
       "    </tr>\n",
       "    <tr>\n",
       "      <td>...</td>\n",
       "      <td>...</td>\n",
       "      <td>...</td>\n",
       "      <td>...</td>\n",
       "      <td>...</td>\n",
       "      <td>...</td>\n",
       "      <td>...</td>\n",
       "      <td>...</td>\n",
       "      <td>...</td>\n",
       "      <td>...</td>\n",
       "      <td>...</td>\n",
       "      <td>...</td>\n",
       "      <td>...</td>\n",
       "      <td>...</td>\n",
       "      <td>...</td>\n",
       "      <td>...</td>\n",
       "      <td>...</td>\n",
       "      <td>...</td>\n",
       "      <td>...</td>\n",
       "    </tr>\n",
       "    <tr>\n",
       "      <td>1751</td>\n",
       "      <td>323112</td>\n",
       "      <td>1994482</td>\n",
       "      <td>11972</td>\n",
       "      <td>Producto 7113</td>\n",
       "      <td>Marca 2136</td>\n",
       "      <td>0</td>\n",
       "      <td>0</td>\n",
       "      <td>Proveedor 474</td>\n",
       "      <td>Cadena 1</td>\n",
       "      <td>GBA                                           ...</td>\n",
       "      <td>HIPER A</td>\n",
       "      <td>3</td>\n",
       "      <td>DESCENTRALIZADA                               ...</td>\n",
       "      <td>N</td>\n",
       "      <td>2019-06-21</td>\n",
       "      <td>2019</td>\n",
       "      <td>0</td>\n",
       "      <td>PAN LACTAL</td>\n",
       "    </tr>\n",
       "    <tr>\n",
       "      <td>1752</td>\n",
       "      <td>323129</td>\n",
       "      <td>1994500</td>\n",
       "      <td>11972</td>\n",
       "      <td>Producto 9068</td>\n",
       "      <td>Marca 1196</td>\n",
       "      <td>111</td>\n",
       "      <td>0</td>\n",
       "      <td>Proveedor 72</td>\n",
       "      <td>Cadena 1</td>\n",
       "      <td>GBA                                           ...</td>\n",
       "      <td>HIPER A</td>\n",
       "      <td>3</td>\n",
       "      <td>DESCENTRALIZADA                               ...</td>\n",
       "      <td>N</td>\n",
       "      <td>2019-06-21</td>\n",
       "      <td>2019</td>\n",
       "      <td>1</td>\n",
       "      <td>PAN LACTAL</td>\n",
       "    </tr>\n",
       "    <tr>\n",
       "      <td>1753</td>\n",
       "      <td>323130</td>\n",
       "      <td>1994501</td>\n",
       "      <td>11972</td>\n",
       "      <td>Producto 9071</td>\n",
       "      <td>Marca 1196</td>\n",
       "      <td>101</td>\n",
       "      <td>0</td>\n",
       "      <td>Proveedor 72</td>\n",
       "      <td>Cadena 1</td>\n",
       "      <td>GBA                                           ...</td>\n",
       "      <td>HIPER A</td>\n",
       "      <td>3</td>\n",
       "      <td>DESCENTRALIZADA                               ...</td>\n",
       "      <td>N</td>\n",
       "      <td>2019-06-21</td>\n",
       "      <td>2019</td>\n",
       "      <td>1</td>\n",
       "      <td>PAN LACTAL</td>\n",
       "    </tr>\n",
       "    <tr>\n",
       "      <td>1754</td>\n",
       "      <td>323205</td>\n",
       "      <td>1994589</td>\n",
       "      <td>11972</td>\n",
       "      <td>Producto 12326</td>\n",
       "      <td>Marca 1380</td>\n",
       "      <td>450</td>\n",
       "      <td>0</td>\n",
       "      <td>Proveedor 432</td>\n",
       "      <td>Cadena 1</td>\n",
       "      <td>GBA                                           ...</td>\n",
       "      <td>HIPER A</td>\n",
       "      <td>3</td>\n",
       "      <td>DESCENTRALIZADA                               ...</td>\n",
       "      <td>N</td>\n",
       "      <td>2019-06-21</td>\n",
       "      <td>2019</td>\n",
       "      <td>1</td>\n",
       "      <td>PAN PANCHOS</td>\n",
       "    </tr>\n",
       "    <tr>\n",
       "      <td>1755</td>\n",
       "      <td>323379</td>\n",
       "      <td>1994789</td>\n",
       "      <td>11972</td>\n",
       "      <td>Producto 7109</td>\n",
       "      <td>Marca 2136</td>\n",
       "      <td>0</td>\n",
       "      <td>0</td>\n",
       "      <td>Proveedor 474</td>\n",
       "      <td>Cadena 1</td>\n",
       "      <td>GBA                                           ...</td>\n",
       "      <td>HIPER A</td>\n",
       "      <td>2</td>\n",
       "      <td>DESCENTRALIZADA                               ...</td>\n",
       "      <td>N</td>\n",
       "      <td>2019-06-21</td>\n",
       "      <td>2019</td>\n",
       "      <td>0</td>\n",
       "      <td>PAN PANCHOS</td>\n",
       "    </tr>\n",
       "  </tbody>\n",
       "</table>\n",
       "<p>1756 rows × 18 columns</p>\n",
       "</div>"
      ],
      "text/plain": [
       "      Unnamed: 0  IDRENGLON  ID_MUESTRA      CODIGO_EAN       MARCA  \\\n",
       "0            213    1588646       11131   Producto 4711  Marca 1469   \n",
       "1           2304    1590781       11134   Producto 4711  Marca 1469   \n",
       "2           4343    1592973       11138   Producto 4711  Marca 1469   \n",
       "3           5405    1594067       11139   Producto 9062  Marca 1196   \n",
       "4           5815    1594487       11140   Producto 7104  Marca 2136   \n",
       "...          ...        ...         ...             ...         ...   \n",
       "1751      323112    1994482       11972   Producto 7113  Marca 2136   \n",
       "1752      323129    1994500       11972   Producto 9068  Marca 1196   \n",
       "1753      323130    1994501       11972   Producto 9071  Marca 1196   \n",
       "1754      323205    1994589       11972  Producto 12326  Marca 1380   \n",
       "1755      323379    1994789       11972   Producto 7109  Marca 2136   \n",
       "\n",
       "      ID_VALIDO  STOCK_CD      PROVEEDOR     CADENA  \\\n",
       "0             0         9  Proveedor 189   Cadena 5   \n",
       "1             0         9  Proveedor 189   Cadena 5   \n",
       "2             0         9  Proveedor 189   Cadena 5   \n",
       "3             0         0   Proveedor 72  Cadena 11   \n",
       "4             0         0  Proveedor 474   Cadena 1   \n",
       "...         ...       ...            ...        ...   \n",
       "1751          0         0  Proveedor 474   Cadena 1   \n",
       "1752        111         0   Proveedor 72   Cadena 1   \n",
       "1753        101         0   Proveedor 72   Cadena 1   \n",
       "1754        450         0  Proveedor 432   Cadena 1   \n",
       "1755          0         0  Proveedor 474   Cadena 1   \n",
       "\n",
       "                                                   ZONA C_TAMANIO  IDROTACION  \\\n",
       "0     CABA                                          ...     SUPER           2   \n",
       "1     GBA                                           ...     SUPER           2   \n",
       "2     CABA                                          ...     SUPER           2   \n",
       "3     TUCUMAN                                       ...     SUPER           3   \n",
       "4     TUCUMAN                                       ...     SUPER           3   \n",
       "...                                                 ...       ...         ...   \n",
       "1751  GBA                                           ...   HIPER A           3   \n",
       "1752  GBA                                           ...   HIPER A           3   \n",
       "1753  GBA                                           ...   HIPER A           3   \n",
       "1754  GBA                                           ...   HIPER A           3   \n",
       "1755  GBA                                           ...   HIPER A           2   \n",
       "\n",
       "                                                ENTREGA IDALMACEN  \\\n",
       "0     DESCENTRALIZADA                               ...         N   \n",
       "1     DESCENTRALIZADA                               ...         N   \n",
       "2     DESCENTRALIZADA                               ...         N   \n",
       "3     DESCENTRALIZADA                               ...         N   \n",
       "4     DESCENTRALIZADA                               ...         N   \n",
       "...                                                 ...       ...   \n",
       "1751  DESCENTRALIZADA                               ...         N   \n",
       "1752  DESCENTRALIZADA                               ...         N   \n",
       "1753  DESCENTRALIZADA                               ...         N   \n",
       "1754  DESCENTRALIZADA                               ...         N   \n",
       "1755  DESCENTRALIZADA                               ...         N   \n",
       "\n",
       "     FECHA_RELGS1  ANIO  QUIEBRE              CAT2  \n",
       "0      2019-05-20  2019        0        PAN LACTAL  \n",
       "1      2019-05-20  2019        0        PAN LACTAL  \n",
       "2      2019-05-20  2019        0        PAN LACTAL  \n",
       "3      2019-05-20  2019        0  PAN HAMBURGUESAS  \n",
       "4      2019-05-20  2019        0  PAN HAMBURGUESAS  \n",
       "...           ...   ...      ...               ...  \n",
       "1751   2019-06-21  2019        0        PAN LACTAL  \n",
       "1752   2019-06-21  2019        1        PAN LACTAL  \n",
       "1753   2019-06-21  2019        1        PAN LACTAL  \n",
       "1754   2019-06-21  2019        1       PAN PANCHOS  \n",
       "1755   2019-06-21  2019        0       PAN PANCHOS  \n",
       "\n",
       "[1756 rows x 18 columns]"
      ]
     },
     "execution_count": 6,
     "metadata": {},
     "output_type": "execute_result"
    }
   ],
   "source": [
    "Categoria_panificados"
   ]
  },
  {
   "cell_type": "code",
   "execution_count": 7,
   "metadata": {},
   "outputs": [
    {
     "data": {
      "text/html": [
       "<div>\n",
       "<style scoped>\n",
       "    .dataframe tbody tr th:only-of-type {\n",
       "        vertical-align: middle;\n",
       "    }\n",
       "\n",
       "    .dataframe tbody tr th {\n",
       "        vertical-align: top;\n",
       "    }\n",
       "\n",
       "    .dataframe thead th {\n",
       "        text-align: right;\n",
       "    }\n",
       "</style>\n",
       "<table border=\"1\" class=\"dataframe\">\n",
       "  <thead>\n",
       "    <tr style=\"text-align: right;\">\n",
       "      <th></th>\n",
       "      <th>Unnamed: 0</th>\n",
       "      <th>IDRENGLON</th>\n",
       "      <th>ID_MUESTRA</th>\n",
       "      <th>CODIGO_EAN</th>\n",
       "      <th>MARCA</th>\n",
       "      <th>ID_VALIDO</th>\n",
       "      <th>STOCK_CD</th>\n",
       "      <th>PROVEEDOR</th>\n",
       "      <th>CADENA</th>\n",
       "      <th>ZONA</th>\n",
       "      <th>C_TAMANIO</th>\n",
       "      <th>IDROTACION</th>\n",
       "      <th>ENTREGA</th>\n",
       "      <th>IDALMACEN</th>\n",
       "      <th>FECHA_RELGS1</th>\n",
       "      <th>ANIO</th>\n",
       "      <th>QUIEBRE</th>\n",
       "      <th>CAT2</th>\n",
       "      <th>CENTRALIZADA</th>\n",
       "      <th>DESCENTRALIZADA</th>\n",
       "    </tr>\n",
       "  </thead>\n",
       "  <tbody>\n",
       "    <tr>\n",
       "      <td>0</td>\n",
       "      <td>213</td>\n",
       "      <td>1588646</td>\n",
       "      <td>11131</td>\n",
       "      <td>Producto 4711</td>\n",
       "      <td>Marca 1469</td>\n",
       "      <td>0</td>\n",
       "      <td>9</td>\n",
       "      <td>Proveedor 189</td>\n",
       "      <td>Cadena 5</td>\n",
       "      <td>CABA                                          ...</td>\n",
       "      <td>SUPER</td>\n",
       "      <td>2</td>\n",
       "      <td>DESCENTRALIZADA                               ...</td>\n",
       "      <td>N</td>\n",
       "      <td>2019-05-20</td>\n",
       "      <td>2019</td>\n",
       "      <td>0</td>\n",
       "      <td>PAN LACTAL</td>\n",
       "      <td>0</td>\n",
       "      <td>1</td>\n",
       "    </tr>\n",
       "    <tr>\n",
       "      <td>1</td>\n",
       "      <td>2304</td>\n",
       "      <td>1590781</td>\n",
       "      <td>11134</td>\n",
       "      <td>Producto 4711</td>\n",
       "      <td>Marca 1469</td>\n",
       "      <td>0</td>\n",
       "      <td>9</td>\n",
       "      <td>Proveedor 189</td>\n",
       "      <td>Cadena 5</td>\n",
       "      <td>GBA                                           ...</td>\n",
       "      <td>SUPER</td>\n",
       "      <td>2</td>\n",
       "      <td>DESCENTRALIZADA                               ...</td>\n",
       "      <td>N</td>\n",
       "      <td>2019-05-20</td>\n",
       "      <td>2019</td>\n",
       "      <td>0</td>\n",
       "      <td>PAN LACTAL</td>\n",
       "      <td>0</td>\n",
       "      <td>1</td>\n",
       "    </tr>\n",
       "    <tr>\n",
       "      <td>2</td>\n",
       "      <td>4343</td>\n",
       "      <td>1592973</td>\n",
       "      <td>11138</td>\n",
       "      <td>Producto 4711</td>\n",
       "      <td>Marca 1469</td>\n",
       "      <td>0</td>\n",
       "      <td>9</td>\n",
       "      <td>Proveedor 189</td>\n",
       "      <td>Cadena 5</td>\n",
       "      <td>CABA                                          ...</td>\n",
       "      <td>SUPER</td>\n",
       "      <td>2</td>\n",
       "      <td>DESCENTRALIZADA                               ...</td>\n",
       "      <td>N</td>\n",
       "      <td>2019-05-20</td>\n",
       "      <td>2019</td>\n",
       "      <td>0</td>\n",
       "      <td>PAN LACTAL</td>\n",
       "      <td>0</td>\n",
       "      <td>1</td>\n",
       "    </tr>\n",
       "  </tbody>\n",
       "</table>\n",
       "</div>"
      ],
      "text/plain": [
       "   Unnamed: 0  IDRENGLON  ID_MUESTRA     CODIGO_EAN       MARCA  ID_VALIDO  \\\n",
       "0         213    1588646       11131  Producto 4711  Marca 1469          0   \n",
       "1        2304    1590781       11134  Producto 4711  Marca 1469          0   \n",
       "2        4343    1592973       11138  Producto 4711  Marca 1469          0   \n",
       "\n",
       "   STOCK_CD      PROVEEDOR    CADENA  \\\n",
       "0         9  Proveedor 189  Cadena 5   \n",
       "1         9  Proveedor 189  Cadena 5   \n",
       "2         9  Proveedor 189  Cadena 5   \n",
       "\n",
       "                                                ZONA C_TAMANIO  IDROTACION  \\\n",
       "0  CABA                                          ...     SUPER           2   \n",
       "1  GBA                                           ...     SUPER           2   \n",
       "2  CABA                                          ...     SUPER           2   \n",
       "\n",
       "                                             ENTREGA IDALMACEN FECHA_RELGS1  \\\n",
       "0  DESCENTRALIZADA                               ...         N   2019-05-20   \n",
       "1  DESCENTRALIZADA                               ...         N   2019-05-20   \n",
       "2  DESCENTRALIZADA                               ...         N   2019-05-20   \n",
       "\n",
       "   ANIO  QUIEBRE        CAT2  \\\n",
       "0  2019        0  PAN LACTAL   \n",
       "1  2019        0  PAN LACTAL   \n",
       "2  2019        0  PAN LACTAL   \n",
       "\n",
       "   CENTRALIZADA                                        \\\n",
       "0                                                  0    \n",
       "1                                                  0    \n",
       "2                                                  0    \n",
       "\n",
       "   DESCENTRALIZADA                                     \n",
       "0                                                  1   \n",
       "1                                                  1   \n",
       "2                                                  1   "
      ]
     },
     "execution_count": 7,
     "metadata": {},
     "output_type": "execute_result"
    }
   ],
   "source": [
    "entrega = pd.get_dummies(Categoria_panificados['ENTREGA'])\n",
    "Categoria_panificados = pd.concat([Categoria_panificados, entrega], axis = 1)\n",
    "Categoria_panificados.head(3)\n"
   ]
  },
  {
   "cell_type": "code",
   "execution_count": 8,
   "metadata": {},
   "outputs": [
    {
     "data": {
      "text/html": [
       "<div>\n",
       "<style scoped>\n",
       "    .dataframe tbody tr th:only-of-type {\n",
       "        vertical-align: middle;\n",
       "    }\n",
       "\n",
       "    .dataframe tbody tr th {\n",
       "        vertical-align: top;\n",
       "    }\n",
       "\n",
       "    .dataframe thead th {\n",
       "        text-align: right;\n",
       "    }\n",
       "</style>\n",
       "<table border=\"1\" class=\"dataframe\">\n",
       "  <thead>\n",
       "    <tr style=\"text-align: right;\">\n",
       "      <th></th>\n",
       "      <th>Unnamed: 0</th>\n",
       "      <th>IDRENGLON</th>\n",
       "      <th>ID_MUESTRA</th>\n",
       "      <th>CODIGO_EAN</th>\n",
       "      <th>MARCA</th>\n",
       "      <th>ID_VALIDO</th>\n",
       "      <th>STOCK_CD</th>\n",
       "      <th>PROVEEDOR</th>\n",
       "      <th>CADENA</th>\n",
       "      <th>ZONA</th>\n",
       "      <th>...</th>\n",
       "      <th>IDALMACEN</th>\n",
       "      <th>FECHA_RELGS1</th>\n",
       "      <th>ANIO</th>\n",
       "      <th>QUIEBRE</th>\n",
       "      <th>CAT2</th>\n",
       "      <th>CENTRALIZADA</th>\n",
       "      <th>DESCENTRALIZADA</th>\n",
       "      <th>N</th>\n",
       "      <th>S</th>\n",
       "      <th>X</th>\n",
       "    </tr>\n",
       "  </thead>\n",
       "  <tbody>\n",
       "    <tr>\n",
       "      <td>0</td>\n",
       "      <td>213</td>\n",
       "      <td>1588646</td>\n",
       "      <td>11131</td>\n",
       "      <td>Producto 4711</td>\n",
       "      <td>Marca 1469</td>\n",
       "      <td>0</td>\n",
       "      <td>9</td>\n",
       "      <td>Proveedor 189</td>\n",
       "      <td>Cadena 5</td>\n",
       "      <td>CABA                                          ...</td>\n",
       "      <td>...</td>\n",
       "      <td>N</td>\n",
       "      <td>2019-05-20</td>\n",
       "      <td>2019</td>\n",
       "      <td>0</td>\n",
       "      <td>PAN LACTAL</td>\n",
       "      <td>0</td>\n",
       "      <td>1</td>\n",
       "      <td>1</td>\n",
       "      <td>0</td>\n",
       "      <td>0</td>\n",
       "    </tr>\n",
       "    <tr>\n",
       "      <td>1</td>\n",
       "      <td>2304</td>\n",
       "      <td>1590781</td>\n",
       "      <td>11134</td>\n",
       "      <td>Producto 4711</td>\n",
       "      <td>Marca 1469</td>\n",
       "      <td>0</td>\n",
       "      <td>9</td>\n",
       "      <td>Proveedor 189</td>\n",
       "      <td>Cadena 5</td>\n",
       "      <td>GBA                                           ...</td>\n",
       "      <td>...</td>\n",
       "      <td>N</td>\n",
       "      <td>2019-05-20</td>\n",
       "      <td>2019</td>\n",
       "      <td>0</td>\n",
       "      <td>PAN LACTAL</td>\n",
       "      <td>0</td>\n",
       "      <td>1</td>\n",
       "      <td>1</td>\n",
       "      <td>0</td>\n",
       "      <td>0</td>\n",
       "    </tr>\n",
       "    <tr>\n",
       "      <td>2</td>\n",
       "      <td>4343</td>\n",
       "      <td>1592973</td>\n",
       "      <td>11138</td>\n",
       "      <td>Producto 4711</td>\n",
       "      <td>Marca 1469</td>\n",
       "      <td>0</td>\n",
       "      <td>9</td>\n",
       "      <td>Proveedor 189</td>\n",
       "      <td>Cadena 5</td>\n",
       "      <td>CABA                                          ...</td>\n",
       "      <td>...</td>\n",
       "      <td>N</td>\n",
       "      <td>2019-05-20</td>\n",
       "      <td>2019</td>\n",
       "      <td>0</td>\n",
       "      <td>PAN LACTAL</td>\n",
       "      <td>0</td>\n",
       "      <td>1</td>\n",
       "      <td>1</td>\n",
       "      <td>0</td>\n",
       "      <td>0</td>\n",
       "    </tr>\n",
       "  </tbody>\n",
       "</table>\n",
       "<p>3 rows × 23 columns</p>\n",
       "</div>"
      ],
      "text/plain": [
       "   Unnamed: 0  IDRENGLON  ID_MUESTRA     CODIGO_EAN       MARCA  ID_VALIDO  \\\n",
       "0         213    1588646       11131  Producto 4711  Marca 1469          0   \n",
       "1        2304    1590781       11134  Producto 4711  Marca 1469          0   \n",
       "2        4343    1592973       11138  Producto 4711  Marca 1469          0   \n",
       "\n",
       "   STOCK_CD      PROVEEDOR    CADENA  \\\n",
       "0         9  Proveedor 189  Cadena 5   \n",
       "1         9  Proveedor 189  Cadena 5   \n",
       "2         9  Proveedor 189  Cadena 5   \n",
       "\n",
       "                                                ZONA  ... IDALMACEN  \\\n",
       "0  CABA                                          ...  ...         N   \n",
       "1  GBA                                           ...  ...         N   \n",
       "2  CABA                                          ...  ...         N   \n",
       "\n",
       "   FECHA_RELGS1  ANIO QUIEBRE        CAT2  \\\n",
       "0    2019-05-20  2019       0  PAN LACTAL   \n",
       "1    2019-05-20  2019       0  PAN LACTAL   \n",
       "2    2019-05-20  2019       0  PAN LACTAL   \n",
       "\n",
       "   CENTRALIZADA                                        \\\n",
       "0                                                  0    \n",
       "1                                                  0    \n",
       "2                                                  0    \n",
       "\n",
       "   DESCENTRALIZADA                                     N  S  X  \n",
       "0                                                  1   1  0  0  \n",
       "1                                                  1   1  0  0  \n",
       "2                                                  1   1  0  0  \n",
       "\n",
       "[3 rows x 23 columns]"
      ]
     },
     "execution_count": 8,
     "metadata": {},
     "output_type": "execute_result"
    }
   ],
   "source": [
    "idalmacen = pd.get_dummies(Categoria_panificados['IDALMACEN'])\n",
    "Categoria_panificados = pd.concat([Categoria_panificados, idalmacen], axis = 1)\n",
    "Categoria_panificados.head(3)"
   ]
  },
  {
   "cell_type": "code",
   "execution_count": 9,
   "metadata": {},
   "outputs": [],
   "source": [
    "# Guardamos feature matrix en \"X\"\n",
    "x = Categoria_panificados.iloc[:,18:23]                           \n",
    "\n",
    "# Guardamos target vector in \"y\"\n",
    "y = Categoria_panificados.iloc[:,16]"
   ]
  },
  {
   "cell_type": "code",
   "execution_count": 10,
   "metadata": {},
   "outputs": [],
   "source": [
    "Categoria_panificados.to_excel(r'C:\\Users\\gabri\\Desktop\\Ciencia de datos\\Categoria panificados.xlsx')"
   ]
  },
  {
   "cell_type": "code",
   "execution_count": 11,
   "metadata": {},
   "outputs": [
    {
     "data": {
      "text/html": [
       "<div>\n",
       "<style scoped>\n",
       "    .dataframe tbody tr th:only-of-type {\n",
       "        vertical-align: middle;\n",
       "    }\n",
       "\n",
       "    .dataframe tbody tr th {\n",
       "        vertical-align: top;\n",
       "    }\n",
       "\n",
       "    .dataframe thead th {\n",
       "        text-align: right;\n",
       "    }\n",
       "</style>\n",
       "<table border=\"1\" class=\"dataframe\">\n",
       "  <thead>\n",
       "    <tr style=\"text-align: right;\">\n",
       "      <th></th>\n",
       "      <th>CENTRALIZADA</th>\n",
       "      <th>DESCENTRALIZADA</th>\n",
       "      <th>N</th>\n",
       "      <th>S</th>\n",
       "      <th>X</th>\n",
       "      <th>STOCK_CD</th>\n",
       "      <th>IDROTACION</th>\n",
       "    </tr>\n",
       "  </thead>\n",
       "  <tbody>\n",
       "    <tr>\n",
       "      <td>0</td>\n",
       "      <td>0</td>\n",
       "      <td>1</td>\n",
       "      <td>1</td>\n",
       "      <td>0</td>\n",
       "      <td>0</td>\n",
       "      <td>9</td>\n",
       "      <td>2</td>\n",
       "    </tr>\n",
       "    <tr>\n",
       "      <td>1</td>\n",
       "      <td>0</td>\n",
       "      <td>1</td>\n",
       "      <td>1</td>\n",
       "      <td>0</td>\n",
       "      <td>0</td>\n",
       "      <td>9</td>\n",
       "      <td>2</td>\n",
       "    </tr>\n",
       "    <tr>\n",
       "      <td>2</td>\n",
       "      <td>0</td>\n",
       "      <td>1</td>\n",
       "      <td>1</td>\n",
       "      <td>0</td>\n",
       "      <td>0</td>\n",
       "      <td>9</td>\n",
       "      <td>2</td>\n",
       "    </tr>\n",
       "    <tr>\n",
       "      <td>3</td>\n",
       "      <td>0</td>\n",
       "      <td>1</td>\n",
       "      <td>1</td>\n",
       "      <td>0</td>\n",
       "      <td>0</td>\n",
       "      <td>0</td>\n",
       "      <td>3</td>\n",
       "    </tr>\n",
       "    <tr>\n",
       "      <td>4</td>\n",
       "      <td>0</td>\n",
       "      <td>1</td>\n",
       "      <td>1</td>\n",
       "      <td>0</td>\n",
       "      <td>0</td>\n",
       "      <td>0</td>\n",
       "      <td>3</td>\n",
       "    </tr>\n",
       "  </tbody>\n",
       "</table>\n",
       "</div>"
      ],
      "text/plain": [
       "   CENTRALIZADA                                        \\\n",
       "0                                                  0    \n",
       "1                                                  0    \n",
       "2                                                  0    \n",
       "3                                                  0    \n",
       "4                                                  0    \n",
       "\n",
       "   DESCENTRALIZADA                                     N  S  X  STOCK_CD  \\\n",
       "0                                                  1   1  0  0         9   \n",
       "1                                                  1   1  0  0         9   \n",
       "2                                                  1   1  0  0         9   \n",
       "3                                                  1   1  0  0         0   \n",
       "4                                                  1   1  0  0         0   \n",
       "\n",
       "   IDROTACION  \n",
       "0           2  \n",
       "1           2  \n",
       "2           2  \n",
       "3           3  \n",
       "4           3  "
      ]
     },
     "execution_count": 11,
     "metadata": {},
     "output_type": "execute_result"
    }
   ],
   "source": [
    "x['STOCK_CD']= Categoria_panificados.iloc[:,6]\n",
    "x['IDROTACION']= Categoria_panificados.iloc[:,11]\n",
    "x.head()"
   ]
  },
  {
   "cell_type": "code",
   "execution_count": 12,
   "metadata": {},
   "outputs": [
    {
     "name": "stdout",
     "output_type": "stream",
     "text": [
      "(1229, 7)\n",
      "(1229,)\n"
     ]
    }
   ],
   "source": [
    "from sklearn.model_selection import train_test_split\n",
    "x_train, x_test, y_train, y_test = train_test_split(x, y, test_size=0.3, random_state=4)\n",
    "print(x_train.shape)\n",
    "print(y_train.shape)"
   ]
  },
  {
   "cell_type": "code",
   "execution_count": 13,
   "metadata": {},
   "outputs": [
    {
     "data": {
      "text/plain": [
       "StandardScaler(copy=True, with_mean=True, with_std=True)"
      ]
     },
     "execution_count": 13,
     "metadata": {},
     "output_type": "execute_result"
    }
   ],
   "source": [
    "from sklearn import preprocessing\n",
    "scaler = preprocessing.StandardScaler().fit(x_train)\n",
    "scaler"
   ]
  },
  {
   "cell_type": "code",
   "execution_count": 14,
   "metadata": {},
   "outputs": [
    {
     "name": "stdout",
     "output_type": "stream",
     "text": [
      "[ 4.04702941e-17 -1.38755294e-16 -1.38755294e-16  1.44536765e-18\n",
      "  2.60166177e-17 -1.01175735e-17 -7.94952206e-17]\n",
      "[1. 1. 1. 1. 1. 1. 1.]\n"
     ]
    }
   ],
   "source": [
    "x_train_scaled = scaler.transform(x_train)  \n",
    "print(x_train_scaled.mean(axis=0))\n",
    "print(x_train_scaled.std(axis=0))"
   ]
  },
  {
   "cell_type": "code",
   "execution_count": 15,
   "metadata": {},
   "outputs": [
    {
     "name": "stdout",
     "output_type": "stream",
     "text": [
      "[ 0.00991341 -0.00991341 -0.00991341 -0.06808672  0.03871892  0.00750035\n",
      " -0.00677309]\n",
      "[1.01013943 1.01013943 1.01013943 0.71535884 1.04302931 0.967173\n",
      " 0.98379167]\n"
     ]
    }
   ],
   "source": [
    "x_test_scaled = scaler.transform(x_test)  \n",
    "print(x_test_scaled.mean(axis=0))\n",
    "print(x_test_scaled.std(axis=0))"
   ]
  },
  {
   "cell_type": "code",
   "execution_count": 16,
   "metadata": {},
   "outputs": [],
   "source": [
    "from sklearn.decomposition import PCA\n",
    "# cantidad de componentes a extraer\n",
    "n_comps = 4\n",
    "# definimos PCA\n",
    "pca = PCA(n_components= n_comps)\n",
    "# fit_transform del PCA a nuestros datos\n",
    "xpca = pd.DataFrame(pca.fit_transform(x_train_scaled))\n",
    "# obtenemos los auto-valores\n",
    "eigenvalues = pca.explained_variance_ratio_"
   ]
  },
  {
   "cell_type": "code",
   "execution_count": 17,
   "metadata": {},
   "outputs": [
    {
     "data": {
      "image/png": "[encoded data removed]",
      "text/plain": [
       "<Figure size 432x288 with 1 Axes>"
      ]
     },
     "metadata": {
      "needs_background": "light"
     },
     "output_type": "display_data"
    }
   ],
   "source": [
    "components = range(1,n_comps + 1)\n",
    "plt.bar(components,eigenvalues)\n",
    "plt.xticks(components)\n",
    "plt.title('Explained variance of top principal components')\n",
    "plt.xlabel('Top Principal Components')\n",
    "plt.ylabel('Explained Variance')\n",
    "plt.show()"
   ]
  },
  {
   "cell_type": "code",
   "execution_count": 18,
   "metadata": {},
   "outputs": [
    {
     "data": {
      "image/png": "[encoded data removed]",
      "text/plain": [
       "<Figure size 648x432 with 1 Axes>"
      ]
     },
     "metadata": {
      "needs_background": "light"
     },
     "output_type": "display_data"
    }
   ],
   "source": [
    "sns.set_context(\"talk\", font_scale=0.7)\n",
    "plt.figure(figsize=(9,6))\n",
    "plt.scatter(xpca.loc[(y_train == 0).ravel(),0],xpca.loc[(y_train == 0).ravel(),1], alpha = 0.7, label = 'N')\n",
    "plt.scatter(xpca.loc[(y_train == 1).ravel(),0],xpca.loc[(y_train == 1).ravel(),1], alpha = 0.7, label = 'S')\n",
    "plt.xlabel('Principal Component 1 , Explainded Variance = ' + str(np.round(eigenvalues[0],2)))\n",
    "plt.ylabel('Principal Component 2 , Explainded Variance = ' + str(np.round(eigenvalues[1],2)))\n",
    "plt.title('Principal Component Analysis before feature selection')\n",
    "plt.legend(loc='upper right')\n",
    "plt.show()"
   ]
  },
  {
   "cell_type": "code",
   "execution_count": 19,
   "metadata": {},
   "outputs": [
    {
     "data": {
      "text/plain": [
       "GridSearchCV(cv=5, error_score='raise-deprecating',\n",
       "             estimator=SVC(C=1.0, cache_size=200, class_weight=None, coef0=0.0,\n",
       "                           decision_function_shape='ovr', degree=3,\n",
       "                           gamma='auto_deprecated', kernel='rbf', max_iter=-1,\n",
       "                           probability=False, random_state=None, shrinking=True,\n",
       "                           tol=0.001, verbose=False),\n",
       "             iid='warn', n_jobs=None,\n",
       "             param_grid={'C': [1, 10, 100], 'gamma': [0.1, 1, 10],\n",
       "                         'kernel': ('linear', 'rbf')},\n",
       "             pre_dispatch='2*n_jobs', refit=True, return_train_score=False,\n",
       "             scoring=None, verbose=0)"
      ]
     },
     "execution_count": 19,
     "metadata": {},
     "output_type": "execute_result"
    }
   ],
   "source": [
    "from sklearn import svm, datasets\n",
    "from sklearn.model_selection import GridSearchCV\n",
    "from sklearn.svm import SVC\n",
    "\n",
    "parameters = {'kernel':('linear', 'rbf'), 'C':[1, 10, 100], 'gamma':[0.1,1, 10]}\n",
    "svc = svm.SVC()\n",
    "clfsvc = GridSearchCV(svc, param_grid = parameters, refit = True, cv = 5)\n",
    "clfsvc.fit(x_train_scaled, y_train.ravel())\n"
   ]
  },
  {
   "cell_type": "code",
   "execution_count": 20,
   "metadata": {},
   "outputs": [
    {
     "name": "stdout",
     "output_type": "stream",
     "text": [
      "The best parameters are {'C': 1, 'gamma': 0.1, 'kernel': 'linear'} with a score of 0.81\n"
     ]
    }
   ],
   "source": [
    "print(\"The best parameters are %s with a score of %0.2f\" % (clfsvc.best_params_, clfsvc.best_score_))"
   ]
  },
  {
   "cell_type": "code",
   "execution_count": 21,
   "metadata": {},
   "outputs": [],
   "source": [
    "y_pred=clfsvc.predict(x_test_scaled) "
   ]
  },
  {
   "cell_type": "code",
   "execution_count": 22,
   "metadata": {},
   "outputs": [
    {
     "name": "stdout",
     "output_type": "stream",
     "text": [
      "0.7950664136622391\n"
     ]
    }
   ],
   "source": [
    "print(clfsvc.score(x_test_scaled,y_test.ravel()))"
   ]
  },
  {
   "cell_type": "code",
   "execution_count": 23,
   "metadata": {},
   "outputs": [
    {
     "name": "stdout",
     "output_type": "stream",
     "text": [
      "[[419   0]\n",
      " [108   0]]\n"
     ]
    }
   ],
   "source": [
    "from sklearn.metrics import confusion_matrix\n",
    "cm = confusion_matrix(y_test, y_pred)\n",
    "print(cm)"
   ]
  },
  {
   "cell_type": "code",
   "execution_count": 24,
   "metadata": {},
   "outputs": [],
   "source": [
    "neigh = KNeighborsClassifier(n_neighbors=5)"
   ]
  },
  {
   "cell_type": "code",
   "execution_count": 25,
   "metadata": {},
   "outputs": [
    {
     "data": {
      "text/plain": [
       "KNeighborsClassifier(algorithm='auto', leaf_size=30, metric='minkowski',\n",
       "                     metric_params=None, n_jobs=None, n_neighbors=5, p=2,\n",
       "                     weights='uniform')"
      ]
     },
     "execution_count": 25,
     "metadata": {},
     "output_type": "execute_result"
    }
   ],
   "source": [
    "neigh.fit(x_train_scaled, y_train)"
   ]
  },
  {
   "cell_type": "code",
   "execution_count": 26,
   "metadata": {},
   "outputs": [],
   "source": [
    "ypredknn = neigh.predict(x_test_scaled)"
   ]
  },
  {
   "cell_type": "code",
   "execution_count": 27,
   "metadata": {},
   "outputs": [
    {
     "name": "stdout",
     "output_type": "stream",
     "text": [
      "El accuracy es 0.8026565464895635\n"
     ]
    }
   ],
   "source": [
    "test_acc = accuracy_score(y_test, ypredknn)\n",
    "print(\"El accuracy es \" + str(test_acc))"
   ]
  },
  {
   "cell_type": "code",
   "execution_count": 28,
   "metadata": {},
   "outputs": [
    {
     "name": "stdout",
     "output_type": "stream",
     "text": [
      "[[394  25]\n",
      " [ 79  29]]\n"
     ]
    }
   ],
   "source": [
    "from sklearn.metrics import confusion_matrix\n",
    "cmknn = confusion_matrix(y_test, ypredknn)\n",
    "print(cmknn)"
   ]
  },
  {
   "cell_type": "code",
   "execution_count": 29,
   "metadata": {},
   "outputs": [
    {
     "data": {
      "image/png": "[encoded data removed]",
      "text/plain": [
       "<Figure size 360x360 with 2 Axes>"
      ]
     },
     "metadata": {
      "needs_background": "light"
     },
     "output_type": "display_data"
    }
   ],
   "source": [
    "df_cm_knn = pd.DataFrame(cmknn, index = [i for i in np.unique(y)],columns = [i for i in np.unique(y)])\n",
    "plt.figure(figsize = (5,5))\n",
    "sns.heatmap(df_cm_knn, annot=True, cmap=\"YlGnBu\")\n",
    "plt.show()"
   ]
  },
  {
   "cell_type": "code",
   "execution_count": 30,
   "metadata": {},
   "outputs": [
    {
     "name": "stdout",
     "output_type": "stream",
     "text": [
      "              precision    recall  f1-score   support\n",
      "\n",
      "           0       0.83      0.94      0.88       419\n",
      "           1       0.54      0.27      0.36       108\n",
      "\n",
      "    accuracy                           0.80       527\n",
      "   macro avg       0.69      0.60      0.62       527\n",
      "weighted avg       0.77      0.80      0.78       527\n",
      "\n"
     ]
    }
   ],
   "source": [
    "from sklearn.metrics import classification_report\n",
    "print (classification_report(y_test,ypredknn))"
   ]
  },
  {
   "cell_type": "code",
   "execution_count": 31,
   "metadata": {},
   "outputs": [
    {
     "data": {
      "text/html": [
       "<div>\n",
       "<style scoped>\n",
       "    .dataframe tbody tr th:only-of-type {\n",
       "        vertical-align: middle;\n",
       "    }\n",
       "\n",
       "    .dataframe tbody tr th {\n",
       "        vertical-align: top;\n",
       "    }\n",
       "\n",
       "    .dataframe thead th {\n",
       "        text-align: right;\n",
       "    }\n",
       "</style>\n",
       "<table border=\"1\" class=\"dataframe\">\n",
       "  <thead>\n",
       "    <tr style=\"text-align: right;\">\n",
       "      <th></th>\n",
       "      <th>CENTRALIZADA</th>\n",
       "      <th>DESCENTRALIZADA</th>\n",
       "      <th>N</th>\n",
       "      <th>S</th>\n",
       "      <th>X</th>\n",
       "      <th>STOCK_CD</th>\n",
       "      <th>IDROTACION</th>\n",
       "      <th>BAHIA BLANCA</th>\n",
       "      <th>C RIVADAVIA</th>\n",
       "      <th>CABA</th>\n",
       "      <th>...</th>\n",
       "      <th>MAR DEL PLATA</th>\n",
       "      <th>MENDOZA</th>\n",
       "      <th>NEUQUEN</th>\n",
       "      <th>PARANA</th>\n",
       "      <th>RAFAELA</th>\n",
       "      <th>ROSARIO</th>\n",
       "      <th>SALTA</th>\n",
       "      <th>SANTA ROSA</th>\n",
       "      <th>TUCUMAN</th>\n",
       "      <th>VIEDMA</th>\n",
       "    </tr>\n",
       "  </thead>\n",
       "  <tbody>\n",
       "    <tr>\n",
       "      <td>0</td>\n",
       "      <td>0</td>\n",
       "      <td>1</td>\n",
       "      <td>1</td>\n",
       "      <td>0</td>\n",
       "      <td>0</td>\n",
       "      <td>9</td>\n",
       "      <td>2</td>\n",
       "      <td>0</td>\n",
       "      <td>0</td>\n",
       "      <td>1</td>\n",
       "      <td>...</td>\n",
       "      <td>0</td>\n",
       "      <td>0</td>\n",
       "      <td>0</td>\n",
       "      <td>0</td>\n",
       "      <td>0</td>\n",
       "      <td>0</td>\n",
       "      <td>0</td>\n",
       "      <td>0</td>\n",
       "      <td>0</td>\n",
       "      <td>0</td>\n",
       "    </tr>\n",
       "    <tr>\n",
       "      <td>1</td>\n",
       "      <td>0</td>\n",
       "      <td>1</td>\n",
       "      <td>1</td>\n",
       "      <td>0</td>\n",
       "      <td>0</td>\n",
       "      <td>9</td>\n",
       "      <td>2</td>\n",
       "      <td>0</td>\n",
       "      <td>0</td>\n",
       "      <td>0</td>\n",
       "      <td>...</td>\n",
       "      <td>0</td>\n",
       "      <td>0</td>\n",
       "      <td>0</td>\n",
       "      <td>0</td>\n",
       "      <td>0</td>\n",
       "      <td>0</td>\n",
       "      <td>0</td>\n",
       "      <td>0</td>\n",
       "      <td>0</td>\n",
       "      <td>0</td>\n",
       "    </tr>\n",
       "    <tr>\n",
       "      <td>2</td>\n",
       "      <td>0</td>\n",
       "      <td>1</td>\n",
       "      <td>1</td>\n",
       "      <td>0</td>\n",
       "      <td>0</td>\n",
       "      <td>9</td>\n",
       "      <td>2</td>\n",
       "      <td>0</td>\n",
       "      <td>0</td>\n",
       "      <td>1</td>\n",
       "      <td>...</td>\n",
       "      <td>0</td>\n",
       "      <td>0</td>\n",
       "      <td>0</td>\n",
       "      <td>0</td>\n",
       "      <td>0</td>\n",
       "      <td>0</td>\n",
       "      <td>0</td>\n",
       "      <td>0</td>\n",
       "      <td>0</td>\n",
       "      <td>0</td>\n",
       "    </tr>\n",
       "  </tbody>\n",
       "</table>\n",
       "<p>3 rows × 23 columns</p>\n",
       "</div>"
      ],
      "text/plain": [
       "   CENTRALIZADA                                        \\\n",
       "0                                                  0    \n",
       "1                                                  0    \n",
       "2                                                  0    \n",
       "\n",
       "   DESCENTRALIZADA                                     N  S  X  STOCK_CD  \\\n",
       "0                                                  1   1  0  0         9   \n",
       "1                                                  1   1  0  0         9   \n",
       "2                                                  1   1  0  0         9   \n",
       "\n",
       "   IDROTACION  BAHIA BLANCA                                        \\\n",
       "0           2                                                  0    \n",
       "1           2                                                  0    \n",
       "2           2                                                  0    \n",
       "\n",
       "   C RIVADAVIA                                         \\\n",
       "0                                                  0    \n",
       "1                                                  0    \n",
       "2                                                  0    \n",
       "\n",
       "   CABA                                                ...  \\\n",
       "0                                                  1   ...   \n",
       "1                                                  0   ...   \n",
       "2                                                  1   ...   \n",
       "\n",
       "   MAR DEL PLATA                                       \\\n",
       "0                                                  0    \n",
       "1                                                  0    \n",
       "2                                                  0    \n",
       "\n",
       "   MENDOZA                                             \\\n",
       "0                                                  0    \n",
       "1                                                  0    \n",
       "2                                                  0    \n",
       "\n",
       "   NEUQUEN                                             \\\n",
       "0                                                  0    \n",
       "1                                                  0    \n",
       "2                                                  0    \n",
       "\n",
       "   PARANA                                              \\\n",
       "0                                                  0    \n",
       "1                                                  0    \n",
       "2                                                  0    \n",
       "\n",
       "   RAFAELA                                             \\\n",
       "0                                                  0    \n",
       "1                                                  0    \n",
       "2                                                  0    \n",
       "\n",
       "   ROSARIO                                             \\\n",
       "0                                                  0    \n",
       "1                                                  0    \n",
       "2                                                  0    \n",
       "\n",
       "   SALTA                                               \\\n",
       "0                                                  0    \n",
       "1                                                  0    \n",
       "2                                                  0    \n",
       "\n",
       "   SANTA ROSA                                          \\\n",
       "0                                                  0    \n",
       "1                                                  0    \n",
       "2                                                  0    \n",
       "\n",
       "   TUCUMAN                                             \\\n",
       "0                                                  0    \n",
       "1                                                  0    \n",
       "2                                                  0    \n",
       "\n",
       "   VIEDMA                                              \n",
       "0                                                  0   \n",
       "1                                                  0   \n",
       "2                                                  0   \n",
       "\n",
       "[3 rows x 23 columns]"
      ]
     },
     "execution_count": 31,
     "metadata": {},
     "output_type": "execute_result"
    }
   ],
   "source": [
    "zona_dummi = pd.get_dummies(Categoria_panificados['ZONA'])\n",
    "x2 = pd.concat([x, zona_dummi], axis = 1)\n",
    "x2.head(3)"
   ]
  },
  {
   "cell_type": "code",
   "execution_count": 32,
   "metadata": {},
   "outputs": [
    {
     "data": {
      "text/html": [
       "<div>\n",
       "<style scoped>\n",
       "    .dataframe tbody tr th:only-of-type {\n",
       "        vertical-align: middle;\n",
       "    }\n",
       "\n",
       "    .dataframe tbody tr th {\n",
       "        vertical-align: top;\n",
       "    }\n",
       "\n",
       "    .dataframe thead th {\n",
       "        text-align: right;\n",
       "    }\n",
       "</style>\n",
       "<table border=\"1\" class=\"dataframe\">\n",
       "  <thead>\n",
       "    <tr style=\"text-align: right;\">\n",
       "      <th></th>\n",
       "      <th>CENTRALIZADA</th>\n",
       "      <th>DESCENTRALIZADA</th>\n",
       "      <th>N</th>\n",
       "      <th>S</th>\n",
       "      <th>X</th>\n",
       "      <th>STOCK_CD</th>\n",
       "      <th>IDROTACION</th>\n",
       "      <th>BAHIA BLANCA</th>\n",
       "      <th>C RIVADAVIA</th>\n",
       "      <th>CABA</th>\n",
       "      <th>...</th>\n",
       "      <th>Cadena 0</th>\n",
       "      <th>Cadena 1</th>\n",
       "      <th>Cadena 10</th>\n",
       "      <th>Cadena 11</th>\n",
       "      <th>Cadena 13</th>\n",
       "      <th>Cadena 2</th>\n",
       "      <th>Cadena 3</th>\n",
       "      <th>Cadena 4</th>\n",
       "      <th>Cadena 5</th>\n",
       "      <th>Cadena 7</th>\n",
       "    </tr>\n",
       "  </thead>\n",
       "  <tbody>\n",
       "    <tr>\n",
       "      <td>0</td>\n",
       "      <td>0</td>\n",
       "      <td>1</td>\n",
       "      <td>1</td>\n",
       "      <td>0</td>\n",
       "      <td>0</td>\n",
       "      <td>9</td>\n",
       "      <td>2</td>\n",
       "      <td>0</td>\n",
       "      <td>0</td>\n",
       "      <td>1</td>\n",
       "      <td>...</td>\n",
       "      <td>0</td>\n",
       "      <td>0</td>\n",
       "      <td>0</td>\n",
       "      <td>0</td>\n",
       "      <td>0</td>\n",
       "      <td>0</td>\n",
       "      <td>0</td>\n",
       "      <td>0</td>\n",
       "      <td>1</td>\n",
       "      <td>0</td>\n",
       "    </tr>\n",
       "    <tr>\n",
       "      <td>1</td>\n",
       "      <td>0</td>\n",
       "      <td>1</td>\n",
       "      <td>1</td>\n",
       "      <td>0</td>\n",
       "      <td>0</td>\n",
       "      <td>9</td>\n",
       "      <td>2</td>\n",
       "      <td>0</td>\n",
       "      <td>0</td>\n",
       "      <td>0</td>\n",
       "      <td>...</td>\n",
       "      <td>0</td>\n",
       "      <td>0</td>\n",
       "      <td>0</td>\n",
       "      <td>0</td>\n",
       "      <td>0</td>\n",
       "      <td>0</td>\n",
       "      <td>0</td>\n",
       "      <td>0</td>\n",
       "      <td>1</td>\n",
       "      <td>0</td>\n",
       "    </tr>\n",
       "    <tr>\n",
       "      <td>2</td>\n",
       "      <td>0</td>\n",
       "      <td>1</td>\n",
       "      <td>1</td>\n",
       "      <td>0</td>\n",
       "      <td>0</td>\n",
       "      <td>9</td>\n",
       "      <td>2</td>\n",
       "      <td>0</td>\n",
       "      <td>0</td>\n",
       "      <td>1</td>\n",
       "      <td>...</td>\n",
       "      <td>0</td>\n",
       "      <td>0</td>\n",
       "      <td>0</td>\n",
       "      <td>0</td>\n",
       "      <td>0</td>\n",
       "      <td>0</td>\n",
       "      <td>0</td>\n",
       "      <td>0</td>\n",
       "      <td>1</td>\n",
       "      <td>0</td>\n",
       "    </tr>\n",
       "  </tbody>\n",
       "</table>\n",
       "<p>3 rows × 33 columns</p>\n",
       "</div>"
      ],
      "text/plain": [
       "   CENTRALIZADA                                        \\\n",
       "0                                                  0    \n",
       "1                                                  0    \n",
       "2                                                  0    \n",
       "\n",
       "   DESCENTRALIZADA                                     N  S  X  STOCK_CD  \\\n",
       "0                                                  1   1  0  0         9   \n",
       "1                                                  1   1  0  0         9   \n",
       "2                                                  1   1  0  0         9   \n",
       "\n",
       "   IDROTACION  BAHIA BLANCA                                        \\\n",
       "0           2                                                  0    \n",
       "1           2                                                  0    \n",
       "2           2                                                  0    \n",
       "\n",
       "   C RIVADAVIA                                         \\\n",
       "0                                                  0    \n",
       "1                                                  0    \n",
       "2                                                  0    \n",
       "\n",
       "   CABA                                                ...  Cadena 0  \\\n",
       "0                                                  1   ...         0   \n",
       "1                                                  0   ...         0   \n",
       "2                                                  1   ...         0   \n",
       "\n",
       "   Cadena 1  Cadena 10  Cadena 11  Cadena 13  Cadena 2  Cadena 3  Cadena 4  \\\n",
       "0         0          0          0          0         0         0         0   \n",
       "1         0          0          0          0         0         0         0   \n",
       "2         0          0          0          0         0         0         0   \n",
       "\n",
       "   Cadena 5  Cadena 7  \n",
       "0         1         0  \n",
       "1         1         0  \n",
       "2         1         0  \n",
       "\n",
       "[3 rows x 33 columns]"
      ]
     },
     "execution_count": 32,
     "metadata": {},
     "output_type": "execute_result"
    }
   ],
   "source": [
    "cadena_dummi = pd.get_dummies(Categoria_panificados['CADENA'])\n",
    "x3 = pd.concat([x2, cadena_dummi], axis = 1)\n",
    "x3.head(3)"
   ]
  },
  {
   "cell_type": "code",
   "execution_count": 33,
   "metadata": {},
   "outputs": [
    {
     "name": "stdout",
     "output_type": "stream",
     "text": [
      "(1229, 33)\n",
      "(1229,)\n"
     ]
    }
   ],
   "source": [
    "from sklearn.model_selection import train_test_split\n",
    "x_train3, x_test3, y_train3, y_test3 = train_test_split(x3, y, test_size=0.3, random_state=5)\n",
    "print(x_train3.shape)\n",
    "print(y_train3.shape)"
   ]
  },
  {
   "cell_type": "code",
   "execution_count": 34,
   "metadata": {},
   "outputs": [
    {
     "data": {
      "text/plain": [
       "StandardScaler(copy=True, with_mean=True, with_std=True)"
      ]
     },
     "execution_count": 34,
     "metadata": {},
     "output_type": "execute_result"
    }
   ],
   "source": [
    "scaler3 = preprocessing.StandardScaler().fit(x_train3)\n",
    "scaler3"
   ]
  },
  {
   "cell_type": "code",
   "execution_count": 35,
   "metadata": {},
   "outputs": [
    {
     "name": "stdout",
     "output_type": "stream",
     "text": [
      "[-3.46888236e-17  6.93776471e-17  6.93776471e-17 -5.78147059e-18\n",
      "  1.15629412e-17 -1.44536765e-18 -3.26291747e-16  1.73444118e-17\n",
      "  1.44536765e-17 -4.33610294e-17 -1.44536765e-18  1.44536765e-17\n",
      " -2.60166177e-17 -2.31258824e-17 -7.51591177e-17  8.67220589e-18\n",
      "  2.81846691e-17 -1.15629412e-17 -1.73444118e-17  2.89073530e-18\n",
      "  1.08402574e-17  4.04702941e-17 -3.39661397e-17  1.04066471e-16\n",
      " -2.31258824e-17 -1.15629412e-17 -8.67220589e-18  5.78147059e-18\n",
      "  1.15629412e-17 -4.26383456e-17 -5.20332353e-17 -1.30083088e-17\n",
      "  3.90249265e-17]\n",
      "[1. 1. 1. 1. 1. 1. 1. 1. 1. 1. 1. 1. 1. 1. 1. 1. 1. 1. 1. 1. 1. 1. 1. 1.\n",
      " 1. 1. 1. 1. 1. 1. 1. 1. 1.]\n"
     ]
    }
   ],
   "source": [
    "x_train_scaled3 = scaler3.transform(x_train3)  \n",
    "print(x_train_scaled3.mean(axis=0))\n",
    "print(x_train_scaled3.std(axis=0))"
   ]
  },
  {
   "cell_type": "code",
   "execution_count": 36,
   "metadata": {},
   "outputs": [
    {
     "name": "stdout",
     "output_type": "stream",
     "text": [
      "[-3.63415342e-02  3.63415342e-02  3.63415342e-02  1.13505150e-01\n",
      " -7.43488004e-02  2.02603989e-02 -2.89031141e-02  3.54095785e-02\n",
      " -7.63858483e-02  7.05148343e-02 -3.68378010e-02  1.36415796e-02\n",
      " -5.50946423e-02 -4.10331405e-05 -4.78900114e-02 -1.01981319e-04\n",
      " -7.04300713e-02  7.89114296e-02 -6.34514012e-02  2.06578735e-02\n",
      "  3.60378663e-02 -1.38331392e-02 -8.63961708e-03 -4.33162809e-03\n",
      "  1.01877644e-02  7.89114296e-02  1.90689609e-02 -5.50684827e-02\n",
      "  3.69586285e-03 -6.38763278e-02 -2.43288353e-02  2.05138106e-01\n",
      "  1.49819931e-02]\n",
      "[0.96211553 0.96211553 0.96211553 1.41266612 0.91333667 1.0371031\n",
      " 1.03860368 1.05621115 0.7110256  1.04979194 0.95169707 1.00814156\n",
      " 0.84064877 0.99973044 0.89987045 0.99973848 0.83321748 1.12328081\n",
      " 0.73113327 1.06050476 1.13573815 0.96720457 0.96636633 0.99500187\n",
      " 1.0068221  1.12328081 1.07864752 0.96090814 1.00542554 0.87789343\n",
      " 0.97596006 1.79003744 1.03413812]\n"
     ]
    }
   ],
   "source": [
    "x_test_scaled3 = scaler3.transform(x_test3)  \n",
    "print(x_test_scaled3.mean(axis=0))\n",
    "print(x_test_scaled3.std(axis=0))"
   ]
  },
  {
   "cell_type": "code",
   "execution_count": 37,
   "metadata": {},
   "outputs": [],
   "source": [
    "iteraciones_knn3 = 50\n",
    "acc_knn3 = np.zeros(iteraciones_knn3)"
   ]
  },
  {
   "cell_type": "code",
   "execution_count": 38,
   "metadata": {},
   "outputs": [],
   "source": [
    "for r in range(0,iteraciones_knn3):\n",
    "    neigh3 = KNeighborsClassifier(n_neighbors=r+1)\n",
    "    neigh3.fit(x_train_scaled3, y_train3)\n",
    "    ypredknn3 = neigh3.predict(x_test_scaled3)\n",
    "    acc_knn3[r] = accuracy_score(y_test3, ypredknn3)"
   ]
  },
  {
   "cell_type": "code",
   "execution_count": 39,
   "metadata": {},
   "outputs": [
    {
     "data": {
      "image/png": "[encoded data removed]",
      "text/plain": [
       "<Figure size 432x288 with 1 Axes>"
      ]
     },
     "metadata": {
      "needs_background": "light"
     },
     "output_type": "display_data"
    }
   ],
   "source": [
    "plt.plot(acc_knn3)\n",
    "plt.xlabel(\"valor de K\")\n",
    "plt.ylabel(\"Variación de accuracy utilizando distintos K)\")\n",
    "plt.show()"
   ]
  },
  {
   "cell_type": "code",
   "execution_count": 40,
   "metadata": {},
   "outputs": [],
   "source": [
    "grid_params3={'n_neighbors':[4,5,6,7,8,9]}\n",
    "neigh3 = GridSearchCV(KNeighborsClassifier(), grid_params3 , refit = True, cv = 5)"
   ]
  },
  {
   "cell_type": "code",
   "execution_count": 41,
   "metadata": {},
   "outputs": [
    {
     "name": "stdout",
     "output_type": "stream",
     "text": [
      "The best parameters are {'n_neighbors': 8} with a score of 0.8266883645\n"
     ]
    }
   ],
   "source": [
    "neigh3.fit(x_train_scaled3, y_train3)\n",
    "print(\"The best parameters are %s with a score of %0.10f\" % (neigh3.best_params_, neigh3.best_score_))\n"
   ]
  },
  {
   "cell_type": "code",
   "execution_count": 42,
   "metadata": {},
   "outputs": [],
   "source": [
    "ypredknn3= neigh3.predict(x_test_scaled3)"
   ]
  },
  {
   "cell_type": "code",
   "execution_count": 43,
   "metadata": {},
   "outputs": [
    {
     "name": "stdout",
     "output_type": "stream",
     "text": [
      "El accuracy es 0.8406072106261859\n"
     ]
    }
   ],
   "source": [
    "test_acc3 = accuracy_score(y_test3, ypredknn3)\n",
    "print(\"El accuracy es \" + str(test_acc3))\n"
   ]
  },
  {
   "cell_type": "code",
   "execution_count": 44,
   "metadata": {},
   "outputs": [
    {
     "name": "stdout",
     "output_type": "stream",
     "text": [
      "[[408  18]\n",
      " [ 66  35]]\n"
     ]
    }
   ],
   "source": [
    "from sklearn.metrics import confusion_matrix\n",
    "cmknn2 = confusion_matrix(y_test3, ypredknn3)\n",
    "print(cmknn2)"
   ]
  },
  {
   "cell_type": "code",
   "execution_count": 45,
   "metadata": {},
   "outputs": [
    {
     "name": "stdout",
     "output_type": "stream",
     "text": [
      "              precision    recall  f1-score   support\n",
      "\n",
      "           0       0.86      0.96      0.91       426\n",
      "           1       0.66      0.35      0.45       101\n",
      "\n",
      "    accuracy                           0.84       527\n",
      "   macro avg       0.76      0.65      0.68       527\n",
      "weighted avg       0.82      0.84      0.82       527\n",
      "\n"
     ]
    }
   ],
   "source": [
    "from sklearn.metrics import classification_report\n",
    "print (classification_report(y_test3,ypredknn3))"
   ]
  },
  {
   "cell_type": "code",
   "execution_count": 46,
   "metadata": {},
   "outputs": [
    {
     "name": "stdout",
     "output_type": "stream",
     "text": [
      "The best parameters are {'C': 1, 'penalty': 'l2'} with a score of 0.8258746949\n"
     ]
    }
   ],
   "source": [
    "grid={'C':[1, 10, 100], \"penalty\":[\"l2\"]}\n",
    "logreg=LogisticRegression(random_state=1,solver=\"newton-cg\")\n",
    "logreg_cv=GridSearchCV(logreg,grid,refit=True,cv=5)\n",
    "logreg_cv.fit(x_train_scaled3,y_train3)\n",
    "print(\"The best parameters are %s with a score of %0.10f\" % (logreg_cv.best_params_, logreg_cv.best_score_))"
   ]
  },
  {
   "cell_type": "code",
   "execution_count": 47,
   "metadata": {},
   "outputs": [],
   "source": [
    "ypredlogr= logreg_cv.predict(x_test_scaled3)"
   ]
  },
  {
   "cell_type": "code",
   "execution_count": 48,
   "metadata": {},
   "outputs": [
    {
     "name": "stdout",
     "output_type": "stream",
     "text": [
      "El accuracy es 0.8330170777988615\n"
     ]
    }
   ],
   "source": [
    "test_acc_log = accuracy_score(y_test3, ypredlogr)\n",
    "print(\"El accuracy es \" + str(test_acc_log))"
   ]
  },
  {
   "cell_type": "code",
   "execution_count": 49,
   "metadata": {},
   "outputs": [
    {
     "name": "stdout",
     "output_type": "stream",
     "text": [
      "[[407  19]\n",
      " [ 69  32]]\n"
     ]
    }
   ],
   "source": [
    "from sklearn.metrics import confusion_matrix\n",
    "cmlog = confusion_matrix(y_test3, ypredlogr)\n",
    "print(cmlog)"
   ]
  },
  {
   "cell_type": "code",
   "execution_count": 50,
   "metadata": {},
   "outputs": [
    {
     "name": "stdout",
     "output_type": "stream",
     "text": [
      "              precision    recall  f1-score   support\n",
      "\n",
      "           0       0.86      0.96      0.90       426\n",
      "           1       0.63      0.32      0.42       101\n",
      "\n",
      "    accuracy                           0.83       527\n",
      "   macro avg       0.74      0.64      0.66       527\n",
      "weighted avg       0.81      0.83      0.81       527\n",
      "\n"
     ]
    }
   ],
   "source": [
    "from sklearn.metrics import classification_report\n",
    "print (classification_report(y_test3,ypredlogr))"
   ]
  },
  {
   "cell_type": "code",
   "execution_count": 51,
   "metadata": {},
   "outputs": [
    {
     "name": "stdout",
     "output_type": "stream",
     "text": [
      "The best parameters are {'C': 2, 'penalty': 'l2'} with a score of 0.6550040683\n"
     ]
    }
   ],
   "source": [
    "grid2={'C':[1,2,3,4,7,8,10,11], \"penalty\":[\"l2\"],}\n",
    "logreg2=LogisticRegression(random_state=1,class_weight=\"balanced\",solver=\"newton-cg\")\n",
    "logreg_cv2=GridSearchCV(logreg2,grid2,refit=True,cv=5)\n",
    "logreg_cv2.fit(x_train_scaled3,y_train3)\n",
    "print(\"The best parameters are %s with a score of %0.10f\" % (logreg_cv2.best_params_, logreg_cv2.best_score_))"
   ]
  },
  {
   "cell_type": "code",
   "execution_count": 52,
   "metadata": {},
   "outputs": [],
   "source": [
    "ypredlogr2= logreg_cv2.predict(x_test_scaled3)"
   ]
  },
  {
   "cell_type": "code",
   "execution_count": 53,
   "metadata": {},
   "outputs": [
    {
     "name": "stdout",
     "output_type": "stream",
     "text": [
      "El accuracy es 0.6565464895635673\n"
     ]
    }
   ],
   "source": [
    "test_acc_log2 = accuracy_score(y_test3, ypredlogr2)\n",
    "print(\"El accuracy es \" + str(test_acc_log2))"
   ]
  },
  {
   "cell_type": "code",
   "execution_count": 54,
   "metadata": {},
   "outputs": [
    {
     "name": "stdout",
     "output_type": "stream",
     "text": [
      "[[254 172]\n",
      " [  9  92]]\n"
     ]
    }
   ],
   "source": [
    "from sklearn.metrics import confusion_matrix\n",
    "cmlog2 = confusion_matrix(y_test3, ypredlogr2)\n",
    "print(cmlog2)"
   ]
  },
  {
   "cell_type": "code",
   "execution_count": 55,
   "metadata": {},
   "outputs": [
    {
     "name": "stdout",
     "output_type": "stream",
     "text": [
      "              precision    recall  f1-score   support\n",
      "\n",
      "           0       0.97      0.60      0.74       426\n",
      "           1       0.35      0.91      0.50       101\n",
      "\n",
      "    accuracy                           0.66       527\n",
      "   macro avg       0.66      0.75      0.62       527\n",
      "weighted avg       0.85      0.66      0.69       527\n",
      "\n"
     ]
    }
   ],
   "source": [
    "from sklearn.metrics import classification_report\n",
    "print (classification_report(y_test3,ypredlogr2))"
   ]
  },
  {
   "cell_type": "code",
   "execution_count": 57,
   "metadata": {},
   "outputs": [
    {
     "name": "stdout",
     "output_type": "stream",
     "text": [
      "Distribution before resampling Counter({0: 994, 1: 235})\n",
      "Distribution after resampling Counter({0: 994, 1: 497})\n"
     ]
    }
   ],
   "source": [
    "from collections import Counter\n",
    "from imblearn.combine import SMOTETomek\n",
    "os_us = SMOTETomek(ratio=0.5)\n",
    "x_train_res2, y_train_res2 = os_us.fit_sample(x_train_scaled3, y_train3)\n",
    " \n",
    "print (\"Distribution before resampling {}\".format(Counter(y_train3)))\n",
    "print (\"Distribution after resampling {}\".format(Counter(y_train_res2)))"
   ]
  },
  {
   "cell_type": "code",
   "execution_count": 58,
   "metadata": {},
   "outputs": [
    {
     "name": "stdout",
     "output_type": "stream",
     "text": [
      "The best parameters are {'n_neighbors': 9} with a score of 0.7598926895\n"
     ]
    }
   ],
   "source": [
    "grid_params4={'n_neighbors':[4,5,6,7,8,9]}\n",
    "neigh4 = GridSearchCV(KNeighborsClassifier(), grid_params4 , refit = True, cv = 5)\n",
    "neigh4.fit(x_train_res2, y_train_res2)\n",
    "print(\"The best parameters are %s with a score of %0.10f\" % (neigh4.best_params_, neigh4.best_score_))\n"
   ]
  },
  {
   "cell_type": "code",
   "execution_count": 59,
   "metadata": {},
   "outputs": [],
   "source": [
    "ypredknn4= neigh4.predict(x_test_scaled3)"
   ]
  },
  {
   "cell_type": "code",
   "execution_count": 60,
   "metadata": {},
   "outputs": [
    {
     "name": "stdout",
     "output_type": "stream",
     "text": [
      "El accuracy es 0.8140417457305503\n"
     ]
    }
   ],
   "source": [
    "test_acc8 = accuracy_score(y_test3, ypredknn4)\n",
    "print(\"El accuracy es \" + str(test_acc8))"
   ]
  },
  {
   "cell_type": "code",
   "execution_count": 61,
   "metadata": {},
   "outputs": [
    {
     "name": "stdout",
     "output_type": "stream",
     "text": [
      "[[379  47]\n",
      " [ 51  50]]\n"
     ]
    }
   ],
   "source": [
    "from sklearn.metrics import confusion_matrix\n",
    "cmknn8 = confusion_matrix(y_test3, ypredknn4)\n",
    "print(cmknn8)"
   ]
  },
  {
   "cell_type": "code",
   "execution_count": 62,
   "metadata": {},
   "outputs": [
    {
     "name": "stdout",
     "output_type": "stream",
     "text": [
      "              precision    recall  f1-score   support\n",
      "\n",
      "           0       0.88      0.89      0.89       426\n",
      "           1       0.52      0.50      0.51       101\n",
      "\n",
      "    accuracy                           0.81       527\n",
      "   macro avg       0.70      0.69      0.70       527\n",
      "weighted avg       0.81      0.81      0.81       527\n",
      "\n"
     ]
    }
   ],
   "source": [
    "from sklearn.metrics import classification_report\n",
    "print (classification_report(y_test3,ypredknn4))"
   ]
  },
  {
   "cell_type": "code",
   "execution_count": 63,
   "metadata": {},
   "outputs": [
    {
     "name": "stdout",
     "output_type": "stream",
     "text": [
      "The best parameters are {'C': 10, 'penalty': 'l2'} with a score of 0.7545271630\n"
     ]
    }
   ],
   "source": [
    "grid4={'C':[1, 10, 100], \"penalty\":[\"l2\"]}\n",
    "logreg4=LogisticRegression(random_state=1,solver=\"newton-cg\")\n",
    "logreg_cv4=GridSearchCV(logreg4,grid4,refit=True,cv=5)\n",
    "logreg_cv4.fit(x_train_res2,y_train_res2)\n",
    "print(\"The best parameters are %s with a score of %0.10f\" % (logreg_cv4.best_params_, logreg_cv4.best_score_))"
   ]
  },
  {
   "cell_type": "code",
   "execution_count": 64,
   "metadata": {},
   "outputs": [],
   "source": [
    "ypredlogr4= logreg_cv4.predict(x_test_scaled3)"
   ]
  },
  {
   "cell_type": "code",
   "execution_count": 65,
   "metadata": {},
   "outputs": [
    {
     "name": "stdout",
     "output_type": "stream",
     "text": [
      "El accuracy es 0.8140417457305503\n"
     ]
    }
   ],
   "source": [
    "test_acc_log4 = accuracy_score(y_test3, ypredlogr4)\n",
    "print(\"El accuracy es \" + str(test_acc_log4))"
   ]
  },
  {
   "cell_type": "code",
   "execution_count": 66,
   "metadata": {},
   "outputs": [
    {
     "name": "stdout",
     "output_type": "stream",
     "text": [
      "[[368  58]\n",
      " [ 40  61]]\n"
     ]
    }
   ],
   "source": [
    "from sklearn.metrics import confusion_matrix\n",
    "cmlog4 = confusion_matrix(y_test3, ypredlogr4)\n",
    "print(cmlog4)"
   ]
  },
  {
   "cell_type": "code",
   "execution_count": 67,
   "metadata": {},
   "outputs": [
    {
     "name": "stdout",
     "output_type": "stream",
     "text": [
      "              precision    recall  f1-score   support\n",
      "\n",
      "           0       0.90      0.86      0.88       426\n",
      "           1       0.51      0.60      0.55       101\n",
      "\n",
      "    accuracy                           0.81       527\n",
      "   macro avg       0.71      0.73      0.72       527\n",
      "weighted avg       0.83      0.81      0.82       527\n",
      "\n"
     ]
    }
   ],
   "source": [
    "from sklearn.metrics import classification_report\n",
    "print (classification_report(y_test3,ypredlogr4))"
   ]
  },
  {
   "cell_type": "code",
   "execution_count": 68,
   "metadata": {},
   "outputs": [
    {
     "name": "stdout",
     "output_type": "stream",
     "text": [
      "El AUC es = 0.8457095709570958\n"
     ]
    }
   ],
   "source": [
    "#compute and plot AUC\n",
    "yproba2 = logreg_cv4.predict_proba(x_test_scaled3)\n",
    "fpr2, tpr2, thresholds = roc_curve(y_test3.astype('int'), yproba2[:,1], drop_intermediate = False)\n",
    "auc2 = metrics.auc(fpr2, tpr2)\n",
    "print(\"El AUC es = \" + str(auc2))"
   ]
  },
  {
   "cell_type": "code",
   "execution_count": 69,
   "metadata": {},
   "outputs": [
    {
     "data": {
      "image/png": "[encoded data removed]",
      "text/plain": [
       "<Figure size 432x288 with 1 Axes>"
      ]
     },
     "metadata": {
      "needs_background": "light"
     },
     "output_type": "display_data"
    }
   ],
   "source": [
    "plt.plot(fpr2, tpr2, lw=2, alpha=0.7 , label = 'ROC curve', color = 'b')\n",
    "plt.plot([0, 1], [0, 1], linestyle='--', lw=1, color='r',label='Luck', alpha=.8)\n",
    "plt.xlabel('False Positive Rate')\n",
    "plt.ylabel('True Positive Rate')\n",
    "plt.grid(False)\n",
    "plt.legend(loc=\"lower right\")\n",
    "plt.title('ROC curve with KNN')\n",
    "plt.show()"
   ]
  },
  {
   "cell_type": "code",
   "execution_count": null,
   "metadata": {},
   "outputs": [],
   "source": []
  }
 ],
 "metadata": {
  "kernelspec": {
   "display_name": "Python 3",
   "language": "python",
   "name": "python3"
  },
  "language_info": {
   "codemirror_mode": {
    "name": "ipython",
    "version": 3
   },
   "file_extension": ".py",
   "mimetype": "text/x-python",
   "name": "python",
   "nbconvert_exporter": "python",
   "pygments_lexer": "ipython3",
   "version": "3.7.4"
  }
 },
 "nbformat": 4,
 "nbformat_minor": 2
}
