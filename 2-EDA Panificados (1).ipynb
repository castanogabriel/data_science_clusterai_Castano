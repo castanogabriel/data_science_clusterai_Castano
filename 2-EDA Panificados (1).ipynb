{
 "cells": [
  {
   "cell_type": "code",
   "execution_count": 1,
   "metadata": {},
   "outputs": [],
   "source": [
    "import pandas as pd\n",
    "import numpy as np\n",
    "import matplotlib.pyplot as plt \n",
    "import seaborn as sns\n",
    "from sklearn.preprocessing import StandardScaler \n",
    "from scipy.stats import norm\n",
    "from IPython.display import Image \n",
    "from sklearn import svm\n",
    "from sklearn.svm import SVC\n",
    "from sklearn.model_selection import train_test_split\n",
    "from sklearn.metrics import accuracy_score\n",
    "from sklearn.model_selection import cross_val_score\n",
    "from sklearn.metrics import roc_curve, auc\n",
    "from sklearn import metrics\n",
    "from sklearn.model_selection import GridSearchCV\n",
    "from sklearn.metrics import confusion_matrix\n",
    "from sklearn.neighbors import KNeighborsClassifier\n",
    "from sklearn.linear_model import LogisticRegression\n",
    "from scipy.stats import mannwhitneyu\n",
    "from sklearn.preprocessing import MinMaxScaler"
   ]
  },
  {
   "cell_type": "code",
   "execution_count": 2,
   "metadata": {},
   "outputs": [],
   "source": [
    "Faltante_gondola = pd.read_excel(r'C:\\Users\\gabri\\Desktop\\Ciencia de datos\\Faltante gondola.xlsx')"
   ]
  },
  {
   "cell_type": "code",
   "execution_count": 3,
   "metadata": {},
   "outputs": [
    {
     "data": {
      "text/html": [
       "<div>\n",
       "<style scoped>\n",
       "    .dataframe tbody tr th:only-of-type {\n",
       "        vertical-align: middle;\n",
       "    }\n",
       "\n",
       "    .dataframe tbody tr th {\n",
       "        vertical-align: top;\n",
       "    }\n",
       "\n",
       "    .dataframe thead th {\n",
       "        text-align: right;\n",
       "    }\n",
       "</style>\n",
       "<table border=\"1\" class=\"dataframe\">\n",
       "  <thead>\n",
       "    <tr style=\"text-align: right;\">\n",
       "      <th></th>\n",
       "      <th>Unnamed: 0</th>\n",
       "      <th>Unnamed: 0.1</th>\n",
       "      <th>IDRENGLON</th>\n",
       "      <th>ID_MUESTRA</th>\n",
       "      <th>CODIGO_EAN</th>\n",
       "      <th>MARCA</th>\n",
       "      <th>ID_VALIDO</th>\n",
       "      <th>STOCK_CD</th>\n",
       "      <th>PROVEEDOR</th>\n",
       "      <th>CADENA</th>\n",
       "      <th>...</th>\n",
       "      <th>ENTREGA</th>\n",
       "      <th>IDALMACEN</th>\n",
       "      <th>FECHA_RELGS1</th>\n",
       "      <th>ANIO</th>\n",
       "      <th>LECTURA</th>\n",
       "      <th>DIASEMANAL</th>\n",
       "      <th>QUIEBRE</th>\n",
       "      <th>CAT2</th>\n",
       "      <th>CAT3</th>\n",
       "      <th>SUB_CAT3</th>\n",
       "    </tr>\n",
       "  </thead>\n",
       "  <tbody>\n",
       "    <tr>\n",
       "      <td>0</td>\n",
       "      <td>0</td>\n",
       "      <td>0</td>\n",
       "      <td>1588433</td>\n",
       "      <td>11131</td>\n",
       "      <td>Producto 279</td>\n",
       "      <td>Marca 1662</td>\n",
       "      <td>0</td>\n",
       "      <td>1036</td>\n",
       "      <td>Proveedor 217</td>\n",
       "      <td>Cadena 5</td>\n",
       "      <td>...</td>\n",
       "      <td>CENTRALIZADA                                  ...</td>\n",
       "      <td>S</td>\n",
       "      <td>2019-05-20</td>\n",
       "      <td>2019</td>\n",
       "      <td>1</td>\n",
       "      <td>Lunes</td>\n",
       "      <td>0</td>\n",
       "      <td>SNACK PAPAS FRITAS</td>\n",
       "      <td>ALIMENTOS</td>\n",
       "      <td>SECOS</td>\n",
       "    </tr>\n",
       "    <tr>\n",
       "      <td>1</td>\n",
       "      <td>1</td>\n",
       "      <td>1</td>\n",
       "      <td>1588434</td>\n",
       "      <td>11131</td>\n",
       "      <td>Producto 281</td>\n",
       "      <td>Marca 1662</td>\n",
       "      <td>0</td>\n",
       "      <td>1176</td>\n",
       "      <td>Proveedor 217</td>\n",
       "      <td>Cadena 5</td>\n",
       "      <td>...</td>\n",
       "      <td>CENTRALIZADA                                  ...</td>\n",
       "      <td>S</td>\n",
       "      <td>2019-05-20</td>\n",
       "      <td>2019</td>\n",
       "      <td>2</td>\n",
       "      <td>Lunes</td>\n",
       "      <td>0</td>\n",
       "      <td>SNACK PAPAS FRITAS</td>\n",
       "      <td>ALIMENTOS</td>\n",
       "      <td>SECOS</td>\n",
       "    </tr>\n",
       "    <tr>\n",
       "      <td>2</td>\n",
       "      <td>2</td>\n",
       "      <td>2</td>\n",
       "      <td>1588435</td>\n",
       "      <td>11131</td>\n",
       "      <td>Producto 285</td>\n",
       "      <td>Marca 1662</td>\n",
       "      <td>0</td>\n",
       "      <td>1188</td>\n",
       "      <td>Proveedor 217</td>\n",
       "      <td>Cadena 5</td>\n",
       "      <td>...</td>\n",
       "      <td>CENTRALIZADA                                  ...</td>\n",
       "      <td>S</td>\n",
       "      <td>2019-05-20</td>\n",
       "      <td>2019</td>\n",
       "      <td>1</td>\n",
       "      <td>Lunes</td>\n",
       "      <td>0</td>\n",
       "      <td>SNACK PAPAS FRITAS</td>\n",
       "      <td>ALIMENTOS</td>\n",
       "      <td>SECOS</td>\n",
       "    </tr>\n",
       "    <tr>\n",
       "      <td>3</td>\n",
       "      <td>3</td>\n",
       "      <td>3</td>\n",
       "      <td>1588436</td>\n",
       "      <td>11131</td>\n",
       "      <td>Producto 999</td>\n",
       "      <td>Marca 1459</td>\n",
       "      <td>0</td>\n",
       "      <td>192</td>\n",
       "      <td>Proveedor 66</td>\n",
       "      <td>Cadena 5</td>\n",
       "      <td>...</td>\n",
       "      <td>CENTRALIZADA                                  ...</td>\n",
       "      <td>X</td>\n",
       "      <td>2019-05-20</td>\n",
       "      <td>2019</td>\n",
       "      <td>1</td>\n",
       "      <td>Lunes</td>\n",
       "      <td>0</td>\n",
       "      <td>CREMA CORPORAL Y MANOS</td>\n",
       "      <td>HIGIENE PERSONAL</td>\n",
       "      <td>HIGIENE PERSONAL</td>\n",
       "    </tr>\n",
       "    <tr>\n",
       "      <td>4</td>\n",
       "      <td>4</td>\n",
       "      <td>4</td>\n",
       "      <td>1588437</td>\n",
       "      <td>11131</td>\n",
       "      <td>Producto 359</td>\n",
       "      <td>Marca 1334</td>\n",
       "      <td>0</td>\n",
       "      <td>1656</td>\n",
       "      <td>Proveedor 279</td>\n",
       "      <td>Cadena 5</td>\n",
       "      <td>...</td>\n",
       "      <td>CENTRALIZADA                                  ...</td>\n",
       "      <td>S</td>\n",
       "      <td>2019-05-20</td>\n",
       "      <td>2019</td>\n",
       "      <td>1</td>\n",
       "      <td>Lunes</td>\n",
       "      <td>0</td>\n",
       "      <td>FIDEOS SECOS</td>\n",
       "      <td>ALIMENTOS</td>\n",
       "      <td>SECOS</td>\n",
       "    </tr>\n",
       "  </tbody>\n",
       "</table>\n",
       "<p>5 rows × 23 columns</p>\n",
       "</div>"
      ],
      "text/plain": [
       "   Unnamed: 0  Unnamed: 0.1  IDRENGLON  ID_MUESTRA    CODIGO_EAN       MARCA  \\\n",
       "0           0             0    1588433       11131  Producto 279  Marca 1662   \n",
       "1           1             1    1588434       11131  Producto 281  Marca 1662   \n",
       "2           2             2    1588435       11131  Producto 285  Marca 1662   \n",
       "3           3             3    1588436       11131  Producto 999  Marca 1459   \n",
       "4           4             4    1588437       11131  Producto 359  Marca 1334   \n",
       "\n",
       "   ID_VALIDO STOCK_CD      PROVEEDOR    CADENA  ...  \\\n",
       "0          0     1036  Proveedor 217  Cadena 5  ...   \n",
       "1          0     1176  Proveedor 217  Cadena 5  ...   \n",
       "2          0     1188  Proveedor 217  Cadena 5  ...   \n",
       "3          0      192   Proveedor 66  Cadena 5  ...   \n",
       "4          0     1656  Proveedor 279  Cadena 5  ...   \n",
       "\n",
       "                                             ENTREGA IDALMACEN FECHA_RELGS1  \\\n",
       "0  CENTRALIZADA                                  ...         S   2019-05-20   \n",
       "1  CENTRALIZADA                                  ...         S   2019-05-20   \n",
       "2  CENTRALIZADA                                  ...         S   2019-05-20   \n",
       "3  CENTRALIZADA                                  ...         X   2019-05-20   \n",
       "4  CENTRALIZADA                                  ...         S   2019-05-20   \n",
       "\n",
       "   ANIO LECTURA DIASEMANAL  QUIEBRE                    CAT2              CAT3  \\\n",
       "0  2019       1      Lunes        0      SNACK PAPAS FRITAS         ALIMENTOS   \n",
       "1  2019       2      Lunes        0      SNACK PAPAS FRITAS         ALIMENTOS   \n",
       "2  2019       1      Lunes        0      SNACK PAPAS FRITAS         ALIMENTOS   \n",
       "3  2019       1      Lunes        0  CREMA CORPORAL Y MANOS  HIGIENE PERSONAL   \n",
       "4  2019       1      Lunes        0            FIDEOS SECOS         ALIMENTOS   \n",
       "\n",
       "           SUB_CAT3  \n",
       "0             SECOS  \n",
       "1             SECOS  \n",
       "2             SECOS  \n",
       "3  HIGIENE PERSONAL  \n",
       "4             SECOS  \n",
       "\n",
       "[5 rows x 23 columns]"
      ]
     },
     "execution_count": 3,
     "metadata": {},
     "output_type": "execute_result"
    }
   ],
   "source": [
    "Faltante_gondola.head()"
   ]
  },
  {
   "cell_type": "code",
   "execution_count": 4,
   "metadata": {},
   "outputs": [],
   "source": [
    "Categoria_panificados= Faltante_gondola.loc[(Faltante_gondola.CAT2 == \"PAN LACTAL\") | (Faltante_gondola.CAT2 == \"PAN HAMBURGUESAS\") | (Faltante_gondola.CAT2 == \"PAN PANCHOS\") | (Faltante_gondola.CAT2 == \"PAN OTROS\")] "
   ]
  },
  {
   "cell_type": "code",
   "execution_count": 5,
   "metadata": {},
   "outputs": [
    {
     "data": {
      "text/plain": [
       "(1756, 23)"
      ]
     },
     "execution_count": 5,
     "metadata": {},
     "output_type": "execute_result"
    }
   ],
   "source": [
    "np.shape (Categoria_panificados)"
   ]
  },
  {
   "cell_type": "code",
   "execution_count": 6,
   "metadata": {},
   "outputs": [
    {
     "data": {
      "text/plain": [
       "Unnamed: 0      False\n",
       "Unnamed: 0.1    False\n",
       "IDRENGLON       False\n",
       "ID_MUESTRA      False\n",
       "CODIGO_EAN      False\n",
       "MARCA           False\n",
       "ID_VALIDO       False\n",
       "STOCK_CD        False\n",
       "PROVEEDOR       False\n",
       "CADENA          False\n",
       "ZONA            False\n",
       "C_TAMANIO       False\n",
       "IDROTACION      False\n",
       "ENTREGA         False\n",
       "IDALMACEN       False\n",
       "FECHA_RELGS1    False\n",
       "ANIO            False\n",
       "LECTURA         False\n",
       "DIASEMANAL      False\n",
       "QUIEBRE         False\n",
       "CAT2            False\n",
       "CAT3            False\n",
       "SUB_CAT3        False\n",
       "dtype: bool"
      ]
     },
     "execution_count": 6,
     "metadata": {},
     "output_type": "execute_result"
    }
   ],
   "source": [
    "Categoria_panificados.isnull().any()"
   ]
  },
  {
   "cell_type": "code",
   "execution_count": 7,
   "metadata": {},
   "outputs": [],
   "source": [
    "quiebre_pan= Categoria_panificados.loc[Categoria_panificados['QUIEBRE']==1]"
   ]
  },
  {
   "cell_type": "code",
   "execution_count": 8,
   "metadata": {},
   "outputs": [
    {
     "data": {
      "text/html": [
       "<div>\n",
       "<style scoped>\n",
       "    .dataframe tbody tr th:only-of-type {\n",
       "        vertical-align: middle;\n",
       "    }\n",
       "\n",
       "    .dataframe tbody tr th {\n",
       "        vertical-align: top;\n",
       "    }\n",
       "\n",
       "    .dataframe thead th {\n",
       "        text-align: right;\n",
       "    }\n",
       "</style>\n",
       "<table border=\"1\" class=\"dataframe\">\n",
       "  <thead>\n",
       "    <tr style=\"text-align: right;\">\n",
       "      <th></th>\n",
       "      <th>IDRENGLON</th>\n",
       "      <th>Rot_quiebre</th>\n",
       "      <th>Porcentaje_total</th>\n",
       "      <th>Porcentaje_quiebre</th>\n",
       "      <th>Quiebre/Total</th>\n",
       "    </tr>\n",
       "    <tr>\n",
       "      <th>IDROTACION</th>\n",
       "      <th></th>\n",
       "      <th></th>\n",
       "      <th></th>\n",
       "      <th></th>\n",
       "      <th></th>\n",
       "    </tr>\n",
       "  </thead>\n",
       "  <tbody>\n",
       "    <tr>\n",
       "      <td>A</td>\n",
       "      <td>1383</td>\n",
       "      <td>237</td>\n",
       "      <td>78.758542</td>\n",
       "      <td>70.535714</td>\n",
       "      <td>17.136659</td>\n",
       "    </tr>\n",
       "    <tr>\n",
       "      <td>B</td>\n",
       "      <td>317</td>\n",
       "      <td>79</td>\n",
       "      <td>18.052392</td>\n",
       "      <td>23.511905</td>\n",
       "      <td>24.921136</td>\n",
       "    </tr>\n",
       "    <tr>\n",
       "      <td>C</td>\n",
       "      <td>56</td>\n",
       "      <td>20</td>\n",
       "      <td>3.189066</td>\n",
       "      <td>5.952381</td>\n",
       "      <td>35.714286</td>\n",
       "    </tr>\n",
       "  </tbody>\n",
       "</table>\n",
       "</div>"
      ],
      "text/plain": [
       "            IDRENGLON  Rot_quiebre  Porcentaje_total  Porcentaje_quiebre  \\\n",
       "IDROTACION                                                                 \n",
       "A                1383          237         78.758542           70.535714   \n",
       "B                 317           79         18.052392           23.511905   \n",
       "C                  56           20          3.189066            5.952381   \n",
       "\n",
       "            Quiebre/Total  \n",
       "IDROTACION                 \n",
       "A               17.136659  \n",
       "B               24.921136  \n",
       "C               35.714286  "
      ]
     },
     "execution_count": 8,
     "metadata": {},
     "output_type": "execute_result"
    }
   ],
   "source": [
    "Rotacionpan=(Categoria_panificados[['IDROTACION', 'IDRENGLON']].groupby(['IDROTACION']).count()).sort_values(by='IDRENGLON',ascending= False)\n",
    "Rotacionpan['Rot_quiebre']=(quiebre_pan[['IDROTACION', 'QUIEBRE']].groupby(['IDROTACION']).count()).sort_values(by='QUIEBRE',ascending= False)\n",
    "total_rotacion_pan=Rotacionpan['IDRENGLON'].sum()\n",
    "porcentaje_rot_total_pan=(Rotacionpan['IDRENGLON']/total_rotacion_pan)*100\n",
    "Rotacionpan['Porcentaje_total']=porcentaje_rot_total_pan\n",
    "total_rotacion_quiebre_pan=Rotacionpan['Rot_quiebre'].sum()\n",
    "porcentaje_rot_quiebre_pan=(Rotacionpan['Rot_quiebre']/total_rotacion_quiebre_pan)*100\n",
    "Rotacionpan['Porcentaje_quiebre']=porcentaje_rot_quiebre_pan\n",
    "Rotacionpan['Quiebre/Total']=(Rotacionpan['Rot_quiebre']/Rotacionpan['IDRENGLON'])*100\n",
    "Rotacionpan.head(5)"
   ]
  },
  {
   "cell_type": "code",
   "execution_count": 9,
   "metadata": {},
   "outputs": [
    {
     "name": "stdout",
     "output_type": "stream",
     "text": [
      "Sobre el total de muestras el 8.76% son muestras con quiebre\r\n",
      "\n",
      "En cambio, sobre la categoría panificados el 19.13% de las muestras están quebradas\r\n",
      "\n"
     ]
    }
   ],
   "source": [
    "Quiebre = Faltante_gondola.loc[Faltante_gondola['QUIEBRE']==1]\n",
    "quiebrestotales= round(((Quiebre['IDRENGLON'].count())/(Faltante_gondola['IDRENGLON'].count()))*100,2) \n",
    "quiebrespani=round(((quiebre_pan['IDRENGLON'].count())/(Categoria_panificados['IDRENGLON'].count()))*100,2) \n",
    "print(f'Sobre el total de muestras el {quiebrestotales}% son muestras con quiebre\\r\\n')\n",
    "print(f'En cambio, sobre la categoría panificados el {quiebrespani}% de las muestras están quebradas\\r\\n')"
   ]
  },
  {
   "cell_type": "code",
   "execution_count": 10,
   "metadata": {},
   "outputs": [],
   "source": [
    "Zonas_pani=(Categoria_panificados[['ZONA', 'IDRENGLON']].groupby(['ZONA']).count()).sort_values(by='IDRENGLON',ascending= False)\n",
    "Zonas_pani['Zonas_quiebre']=(quiebre_pan[['ZONA', 'QUIEBRE']].groupby(['ZONA']).count()).sort_values(by='QUIEBRE',ascending= False)\n",
    "Zonas_pani['Quiebre/Total']=(Zonas_pani['Zonas_quiebre']/Zonas_pani['IDRENGLON'])*100"
   ]
  },
  {
   "cell_type": "code",
   "execution_count": 11,
   "metadata": {},
   "outputs": [
    {
     "data": {
      "text/html": [
       "<div>\n",
       "<style scoped>\n",
       "    .dataframe tbody tr th:only-of-type {\n",
       "        vertical-align: middle;\n",
       "    }\n",
       "\n",
       "    .dataframe tbody tr th {\n",
       "        vertical-align: top;\n",
       "    }\n",
       "\n",
       "    .dataframe thead th {\n",
       "        text-align: right;\n",
       "    }\n",
       "</style>\n",
       "<table border=\"1\" class=\"dataframe\">\n",
       "  <thead>\n",
       "    <tr style=\"text-align: right;\">\n",
       "      <th></th>\n",
       "      <th>IDRENGLON</th>\n",
       "      <th>Zonas_quiebre</th>\n",
       "      <th>Quiebre/Total</th>\n",
       "    </tr>\n",
       "    <tr>\n",
       "      <th>ZONA</th>\n",
       "      <th></th>\n",
       "      <th></th>\n",
       "      <th></th>\n",
       "    </tr>\n",
       "  </thead>\n",
       "  <tbody>\n",
       "    <tr>\n",
       "      <td>SANTA ROSA</td>\n",
       "      <td>28</td>\n",
       "      <td>23.0</td>\n",
       "      <td>82.142857</td>\n",
       "    </tr>\n",
       "    <tr>\n",
       "      <td>SALTA</td>\n",
       "      <td>46</td>\n",
       "      <td>22.0</td>\n",
       "      <td>47.826087</td>\n",
       "    </tr>\n",
       "    <tr>\n",
       "      <td>VIEDMA</td>\n",
       "      <td>28</td>\n",
       "      <td>12.0</td>\n",
       "      <td>42.857143</td>\n",
       "    </tr>\n",
       "    <tr>\n",
       "      <td>TUCUMAN</td>\n",
       "      <td>70</td>\n",
       "      <td>29.0</td>\n",
       "      <td>41.428571</td>\n",
       "    </tr>\n",
       "    <tr>\n",
       "      <td>CORDOBA</td>\n",
       "      <td>184</td>\n",
       "      <td>62.0</td>\n",
       "      <td>33.695652</td>\n",
       "    </tr>\n",
       "    <tr>\n",
       "      <td>NEUQUEN</td>\n",
       "      <td>60</td>\n",
       "      <td>19.0</td>\n",
       "      <td>31.666667</td>\n",
       "    </tr>\n",
       "    <tr>\n",
       "      <td>GRAL. ROCA</td>\n",
       "      <td>52</td>\n",
       "      <td>14.0</td>\n",
       "      <td>26.923077</td>\n",
       "    </tr>\n",
       "    <tr>\n",
       "      <td>C RIVADAVIA</td>\n",
       "      <td>34</td>\n",
       "      <td>7.0</td>\n",
       "      <td>20.588235</td>\n",
       "    </tr>\n",
       "    <tr>\n",
       "      <td>GBA</td>\n",
       "      <td>426</td>\n",
       "      <td>82.0</td>\n",
       "      <td>19.248826</td>\n",
       "    </tr>\n",
       "    <tr>\n",
       "      <td>RAFAELA</td>\n",
       "      <td>132</td>\n",
       "      <td>24.0</td>\n",
       "      <td>18.181818</td>\n",
       "    </tr>\n",
       "    <tr>\n",
       "      <td>PARANA</td>\n",
       "      <td>75</td>\n",
       "      <td>7.0</td>\n",
       "      <td>9.333333</td>\n",
       "    </tr>\n",
       "    <tr>\n",
       "      <td>BAHIA BLANCA</td>\n",
       "      <td>132</td>\n",
       "      <td>9.0</td>\n",
       "      <td>6.818182</td>\n",
       "    </tr>\n",
       "    <tr>\n",
       "      <td>CABA</td>\n",
       "      <td>362</td>\n",
       "      <td>24.0</td>\n",
       "      <td>6.629834</td>\n",
       "    </tr>\n",
       "    <tr>\n",
       "      <td>MENDOZA</td>\n",
       "      <td>90</td>\n",
       "      <td>2.0</td>\n",
       "      <td>2.222222</td>\n",
       "    </tr>\n",
       "    <tr>\n",
       "      <td>ROSARIO</td>\n",
       "      <td>27</td>\n",
       "      <td>NaN</td>\n",
       "      <td>NaN</td>\n",
       "    </tr>\n",
       "    <tr>\n",
       "      <td>MAR DEL PLATA</td>\n",
       "      <td>10</td>\n",
       "      <td>NaN</td>\n",
       "      <td>NaN</td>\n",
       "    </tr>\n",
       "  </tbody>\n",
       "</table>\n",
       "</div>"
      ],
      "text/plain": [
       "                                                    IDRENGLON  Zonas_quiebre  \\\n",
       "ZONA                                                                           \n",
       "SANTA ROSA                                                 28           23.0   \n",
       "SALTA                                                      46           22.0   \n",
       "VIEDMA                                                     28           12.0   \n",
       "TUCUMAN                                                    70           29.0   \n",
       "CORDOBA                                                   184           62.0   \n",
       "NEUQUEN                                                    60           19.0   \n",
       "GRAL. ROCA                                                 52           14.0   \n",
       "C RIVADAVIA                                                34            7.0   \n",
       "GBA                                                       426           82.0   \n",
       "RAFAELA                                                   132           24.0   \n",
       "PARANA                                                     75            7.0   \n",
       "BAHIA BLANCA                                              132            9.0   \n",
       "CABA                                                      362           24.0   \n",
       "MENDOZA                                                    90            2.0   \n",
       "ROSARIO                                                    27            NaN   \n",
       "MAR DEL PLATA                                              10            NaN   \n",
       "\n",
       "                                                    Quiebre/Total  \n",
       "ZONA                                                               \n",
       "SANTA ROSA                                              82.142857  \n",
       "SALTA                                                   47.826087  \n",
       "VIEDMA                                                  42.857143  \n",
       "TUCUMAN                                                 41.428571  \n",
       "CORDOBA                                                 33.695652  \n",
       "NEUQUEN                                                 31.666667  \n",
       "GRAL. ROCA                                              26.923077  \n",
       "C RIVADAVIA                                             20.588235  \n",
       "GBA                                                     19.248826  \n",
       "RAFAELA                                                 18.181818  \n",
       "PARANA                                                   9.333333  \n",
       "BAHIA BLANCA                                             6.818182  \n",
       "CABA                                                     6.629834  \n",
       "MENDOZA                                                  2.222222  \n",
       "ROSARIO                                                       NaN  \n",
       "MAR DEL PLATA                                                 NaN  "
      ]
     },
     "execution_count": 11,
     "metadata": {},
     "output_type": "execute_result"
    }
   ],
   "source": [
    "Zonas_pani.sort_values(by='Quiebre/Total',ascending=False)"
   ]
  },
  {
   "cell_type": "code",
   "execution_count": 12,
   "metadata": {},
   "outputs": [],
   "source": [
    "Cadena_pani=(Categoria_panificados[['CADENA', 'IDRENGLON']].groupby(['CADENA']).count()).sort_values(by='IDRENGLON',ascending= False)\n",
    "Cadena_pani['Cadena_quiebre']=(quiebre_pan[['CADENA', 'QUIEBRE']].groupby(['CADENA']).count()).sort_values(by='QUIEBRE',ascending= False)\n",
    "Cadena_pani['Quiebre/Total']=(Cadena_pani['Cadena_quiebre']/Cadena_pani['IDRENGLON'])*100"
   ]
  },
  {
   "cell_type": "code",
   "execution_count": 13,
   "metadata": {},
   "outputs": [
    {
     "data": {
      "text/html": [
       "<div>\n",
       "<style scoped>\n",
       "    .dataframe tbody tr th:only-of-type {\n",
       "        vertical-align: middle;\n",
       "    }\n",
       "\n",
       "    .dataframe tbody tr th {\n",
       "        vertical-align: top;\n",
       "    }\n",
       "\n",
       "    .dataframe thead th {\n",
       "        text-align: right;\n",
       "    }\n",
       "</style>\n",
       "<table border=\"1\" class=\"dataframe\">\n",
       "  <thead>\n",
       "    <tr style=\"text-align: right;\">\n",
       "      <th></th>\n",
       "      <th>IDRENGLON</th>\n",
       "      <th>Cadena_quiebre</th>\n",
       "      <th>Quiebre/Total</th>\n",
       "    </tr>\n",
       "    <tr>\n",
       "      <th>CADENA</th>\n",
       "      <th></th>\n",
       "      <th></th>\n",
       "      <th></th>\n",
       "    </tr>\n",
       "  </thead>\n",
       "  <tbody>\n",
       "    <tr>\n",
       "      <td>Cadena 1</td>\n",
       "      <td>388</td>\n",
       "      <td>173.0</td>\n",
       "      <td>44.587629</td>\n",
       "    </tr>\n",
       "    <tr>\n",
       "      <td>Cadena 3</td>\n",
       "      <td>106</td>\n",
       "      <td>29.0</td>\n",
       "      <td>27.358491</td>\n",
       "    </tr>\n",
       "    <tr>\n",
       "      <td>Cadena 13</td>\n",
       "      <td>378</td>\n",
       "      <td>75.0</td>\n",
       "      <td>19.841270</td>\n",
       "    </tr>\n",
       "    <tr>\n",
       "      <td>Cadena 10</td>\n",
       "      <td>132</td>\n",
       "      <td>24.0</td>\n",
       "      <td>18.181818</td>\n",
       "    </tr>\n",
       "    <tr>\n",
       "      <td>Cadena 2</td>\n",
       "      <td>152</td>\n",
       "      <td>19.0</td>\n",
       "      <td>12.500000</td>\n",
       "    </tr>\n",
       "    <tr>\n",
       "      <td>Cadena 0</td>\n",
       "      <td>215</td>\n",
       "      <td>16.0</td>\n",
       "      <td>7.441860</td>\n",
       "    </tr>\n",
       "    <tr>\n",
       "      <td>Cadena 4</td>\n",
       "      <td>264</td>\n",
       "      <td>NaN</td>\n",
       "      <td>NaN</td>\n",
       "    </tr>\n",
       "    <tr>\n",
       "      <td>Cadena 7</td>\n",
       "      <td>73</td>\n",
       "      <td>NaN</td>\n",
       "      <td>NaN</td>\n",
       "    </tr>\n",
       "    <tr>\n",
       "      <td>Cadena 11</td>\n",
       "      <td>24</td>\n",
       "      <td>NaN</td>\n",
       "      <td>NaN</td>\n",
       "    </tr>\n",
       "    <tr>\n",
       "      <td>Cadena 5</td>\n",
       "      <td>24</td>\n",
       "      <td>NaN</td>\n",
       "      <td>NaN</td>\n",
       "    </tr>\n",
       "  </tbody>\n",
       "</table>\n",
       "</div>"
      ],
      "text/plain": [
       "           IDRENGLON  Cadena_quiebre  Quiebre/Total\n",
       "CADENA                                             \n",
       "Cadena 1         388           173.0      44.587629\n",
       "Cadena 3         106            29.0      27.358491\n",
       "Cadena 13        378            75.0      19.841270\n",
       "Cadena 10        132            24.0      18.181818\n",
       "Cadena 2         152            19.0      12.500000\n",
       "Cadena 0         215            16.0       7.441860\n",
       "Cadena 4         264             NaN            NaN\n",
       "Cadena 7          73             NaN            NaN\n",
       "Cadena 11         24             NaN            NaN\n",
       "Cadena 5          24             NaN            NaN"
      ]
     },
     "execution_count": 13,
     "metadata": {},
     "output_type": "execute_result"
    }
   ],
   "source": [
    "Cadena_pani.sort_values(by='Quiebre/Total',ascending=False)"
   ]
  },
  {
   "cell_type": "code",
   "execution_count": 14,
   "metadata": {},
   "outputs": [],
   "source": [
    "Proveedor_pani=(Categoria_panificados[['PROVEEDOR', 'IDRENGLON']].groupby(['PROVEEDOR']).count()).sort_values(by='IDRENGLON',ascending= False)\n",
    "Proveedor_pani['Proveedor_quiebre']=(quiebre_pan[['PROVEEDOR', 'QUIEBRE']].groupby(['PROVEEDOR']).count()).sort_values(by='QUIEBRE',ascending= False)\n",
    "Proveedor_pani['Quiebre/Total']=(Proveedor_pani['Proveedor_quiebre']/Proveedor_pani['IDRENGLON'])*100"
   ]
  },
  {
   "cell_type": "code",
   "execution_count": 15,
   "metadata": {},
   "outputs": [
    {
     "data": {
      "text/html": [
       "<div>\n",
       "<style scoped>\n",
       "    .dataframe tbody tr th:only-of-type {\n",
       "        vertical-align: middle;\n",
       "    }\n",
       "\n",
       "    .dataframe tbody tr th {\n",
       "        vertical-align: top;\n",
       "    }\n",
       "\n",
       "    .dataframe thead th {\n",
       "        text-align: right;\n",
       "    }\n",
       "</style>\n",
       "<table border=\"1\" class=\"dataframe\">\n",
       "  <thead>\n",
       "    <tr style=\"text-align: right;\">\n",
       "      <th></th>\n",
       "      <th>IDRENGLON</th>\n",
       "      <th>Proveedor_quiebre</th>\n",
       "      <th>Quiebre/Total</th>\n",
       "    </tr>\n",
       "    <tr>\n",
       "      <th>PROVEEDOR</th>\n",
       "      <th></th>\n",
       "      <th></th>\n",
       "      <th></th>\n",
       "    </tr>\n",
       "  </thead>\n",
       "  <tbody>\n",
       "    <tr>\n",
       "      <td>Proveedor 643</td>\n",
       "      <td>6</td>\n",
       "      <td>5.0</td>\n",
       "      <td>83.333333</td>\n",
       "    </tr>\n",
       "    <tr>\n",
       "      <td>Proveedor 432</td>\n",
       "      <td>140</td>\n",
       "      <td>115.0</td>\n",
       "      <td>82.142857</td>\n",
       "    </tr>\n",
       "    <tr>\n",
       "      <td>Proveedor 474</td>\n",
       "      <td>313</td>\n",
       "      <td>104.0</td>\n",
       "      <td>33.226837</td>\n",
       "    </tr>\n",
       "    <tr>\n",
       "      <td>Proveedor 31</td>\n",
       "      <td>28</td>\n",
       "      <td>7.0</td>\n",
       "      <td>25.000000</td>\n",
       "    </tr>\n",
       "    <tr>\n",
       "      <td>Proveedor 147</td>\n",
       "      <td>26</td>\n",
       "      <td>6.0</td>\n",
       "      <td>23.076923</td>\n",
       "    </tr>\n",
       "    <tr>\n",
       "      <td>Proveedor 184</td>\n",
       "      <td>28</td>\n",
       "      <td>6.0</td>\n",
       "      <td>21.428571</td>\n",
       "    </tr>\n",
       "    <tr>\n",
       "      <td>Proveedor 138</td>\n",
       "      <td>24</td>\n",
       "      <td>5.0</td>\n",
       "      <td>20.833333</td>\n",
       "    </tr>\n",
       "    <tr>\n",
       "      <td>Proveedor 235</td>\n",
       "      <td>22</td>\n",
       "      <td>4.0</td>\n",
       "      <td>18.181818</td>\n",
       "    </tr>\n",
       "    <tr>\n",
       "      <td>Proveedor 90</td>\n",
       "      <td>12</td>\n",
       "      <td>2.0</td>\n",
       "      <td>16.666667</td>\n",
       "    </tr>\n",
       "    <tr>\n",
       "      <td>Proveedor 294</td>\n",
       "      <td>70</td>\n",
       "      <td>10.0</td>\n",
       "      <td>14.285714</td>\n",
       "    </tr>\n",
       "  </tbody>\n",
       "</table>\n",
       "</div>"
      ],
      "text/plain": [
       "               IDRENGLON  Proveedor_quiebre  Quiebre/Total\n",
       "PROVEEDOR                                                 \n",
       "Proveedor 643          6                5.0      83.333333\n",
       "Proveedor 432        140              115.0      82.142857\n",
       "Proveedor 474        313              104.0      33.226837\n",
       "Proveedor 31          28                7.0      25.000000\n",
       "Proveedor 147         26                6.0      23.076923\n",
       "Proveedor 184         28                6.0      21.428571\n",
       "Proveedor 138         24                5.0      20.833333\n",
       "Proveedor 235         22                4.0      18.181818\n",
       "Proveedor 90          12                2.0      16.666667\n",
       "Proveedor 294         70               10.0      14.285714"
      ]
     },
     "execution_count": 15,
     "metadata": {},
     "output_type": "execute_result"
    }
   ],
   "source": [
    "Proveedor_pani.sort_values(by='Quiebre/Total',ascending=False).head(10)"
   ]
  },
  {
   "cell_type": "code",
   "execution_count": 19,
   "metadata": {},
   "outputs": [],
   "source": [
    "Tamano_pani=(Categoria_panificados[['C_TAMANIO', 'IDRENGLON']].groupby(['C_TAMANIO']).count()).sort_values(by='IDRENGLON',ascending= False)\n",
    "Tamano_pani['Tamano_quiebre']=(quiebre_pan[['C_TAMANIO', 'QUIEBRE']].groupby(['C_TAMANIO']).count()).sort_values(by='QUIEBRE',ascending= False)\n",
    "Tamano_pani['Quiebre/Total']=(Tamano_pani['Tamano_quiebre']/Tamano_pani['IDRENGLON'])*100"
   ]
  },
  {
   "cell_type": "code",
   "execution_count": 20,
   "metadata": {},
   "outputs": [
    {
     "data": {
      "text/html": [
       "<div>\n",
       "<style scoped>\n",
       "    .dataframe tbody tr th:only-of-type {\n",
       "        vertical-align: middle;\n",
       "    }\n",
       "\n",
       "    .dataframe tbody tr th {\n",
       "        vertical-align: top;\n",
       "    }\n",
       "\n",
       "    .dataframe thead th {\n",
       "        text-align: right;\n",
       "    }\n",
       "</style>\n",
       "<table border=\"1\" class=\"dataframe\">\n",
       "  <thead>\n",
       "    <tr style=\"text-align: right;\">\n",
       "      <th></th>\n",
       "      <th>IDRENGLON</th>\n",
       "      <th>Tamano_quiebre</th>\n",
       "      <th>Quiebre/Total</th>\n",
       "    </tr>\n",
       "    <tr>\n",
       "      <th>C_TAMANIO</th>\n",
       "      <th></th>\n",
       "      <th></th>\n",
       "      <th></th>\n",
       "    </tr>\n",
       "  </thead>\n",
       "  <tbody>\n",
       "    <tr>\n",
       "      <td>HIPER A</td>\n",
       "      <td>600</td>\n",
       "      <td>154</td>\n",
       "      <td>25.666667</td>\n",
       "    </tr>\n",
       "    <tr>\n",
       "      <td>SUPER</td>\n",
       "      <td>287</td>\n",
       "      <td>62</td>\n",
       "      <td>21.602787</td>\n",
       "    </tr>\n",
       "    <tr>\n",
       "      <td>MINI</td>\n",
       "      <td>274</td>\n",
       "      <td>50</td>\n",
       "      <td>18.248175</td>\n",
       "    </tr>\n",
       "    <tr>\n",
       "      <td>HIPER B</td>\n",
       "      <td>524</td>\n",
       "      <td>62</td>\n",
       "      <td>11.832061</td>\n",
       "    </tr>\n",
       "    <tr>\n",
       "      <td>PROXI</td>\n",
       "      <td>71</td>\n",
       "      <td>8</td>\n",
       "      <td>11.267606</td>\n",
       "    </tr>\n",
       "  </tbody>\n",
       "</table>\n",
       "</div>"
      ],
      "text/plain": [
       "           IDRENGLON  Tamano_quiebre  Quiebre/Total\n",
       "C_TAMANIO                                          \n",
       "HIPER A          600             154      25.666667\n",
       "SUPER            287              62      21.602787\n",
       "MINI             274              50      18.248175\n",
       "HIPER B          524              62      11.832061\n",
       "PROXI             71               8      11.267606"
      ]
     },
     "execution_count": 20,
     "metadata": {},
     "output_type": "execute_result"
    }
   ],
   "source": [
    "Tamano_pani.sort_values(by='Quiebre/Total',ascending=False).head(10)"
   ]
  },
  {
   "cell_type": "code",
   "execution_count": 21,
   "metadata": {},
   "outputs": [],
   "source": [
    "Motivo_pan=(quiebre_pan[['ID_VALIDO', 'IDRENGLON']].groupby(['ID_VALIDO']).count()).sort_values(by='IDRENGLON',ascending= False)\n",
    "total_motivo_pan=Motivo_pan['IDRENGLON'].sum()\n",
    "porcentaje_motivo_total_pan=(Motivo_pan['IDRENGLON']/total_motivo_pan)*100\n",
    "Motivo_pan['Porcentaje_total']=porcentaje_motivo_total_pan"
   ]
  },
  {
   "cell_type": "code",
   "execution_count": 22,
   "metadata": {},
   "outputs": [],
   "source": [
    "Tabla_motivo = pd.read_excel(r'C:\\Users\\gabri\\Desktop\\Ciencia de datos\\Tabla de Motivos.xlsx')"
   ]
  },
  {
   "cell_type": "code",
   "execution_count": 23,
   "metadata": {},
   "outputs": [],
   "source": [
    "Motivo_pan = pd.merge(Motivo_pan, Tabla_motivo, how='left',left_on='ID_VALIDO', right_on='Detalle')"
   ]
  },
  {
   "cell_type": "code",
   "execution_count": 24,
   "metadata": {},
   "outputs": [
    {
     "data": {
      "text/html": [
       "<div>\n",
       "<style scoped>\n",
       "    .dataframe tbody tr th:only-of-type {\n",
       "        vertical-align: middle;\n",
       "    }\n",
       "\n",
       "    .dataframe tbody tr th {\n",
       "        vertical-align: top;\n",
       "    }\n",
       "\n",
       "    .dataframe thead th {\n",
       "        text-align: right;\n",
       "    }\n",
       "</style>\n",
       "<table border=\"1\" class=\"dataframe\">\n",
       "  <thead>\n",
       "    <tr style=\"text-align: right;\">\n",
       "      <th></th>\n",
       "      <th>IDRENGLON</th>\n",
       "      <th>Porcentaje_total</th>\n",
       "      <th>Detalle</th>\n",
       "      <th>fechaAlta</th>\n",
       "    </tr>\n",
       "  </thead>\n",
       "  <tbody>\n",
       "    <tr>\n",
       "      <td>0</td>\n",
       "      <td>78</td>\n",
       "      <td>23.214286</td>\n",
       "      <td>101</td>\n",
       "      <td>Falso stock positivo en el local</td>\n",
       "    </tr>\n",
       "    <tr>\n",
       "      <td>1</td>\n",
       "      <td>47</td>\n",
       "      <td>13.988095</td>\n",
       "      <td>103</td>\n",
       "      <td>Mercadería rota/vencida</td>\n",
       "    </tr>\n",
       "    <tr>\n",
       "      <td>2</td>\n",
       "      <td>44</td>\n",
       "      <td>13.095238</td>\n",
       "      <td>407</td>\n",
       "      <td>Pedido pendiente de entrega del proveedor al l...</td>\n",
       "    </tr>\n",
       "    <tr>\n",
       "      <td>3</td>\n",
       "      <td>32</td>\n",
       "      <td>9.523810</td>\n",
       "      <td>102</td>\n",
       "      <td>El local no realizó el pedido</td>\n",
       "    </tr>\n",
       "    <tr>\n",
       "      <td>4</td>\n",
       "      <td>30</td>\n",
       "      <td>8.928571</td>\n",
       "      <td>400</td>\n",
       "      <td>El proveedor no entregó (general)</td>\n",
       "    </tr>\n",
       "    <tr>\n",
       "      <td>5</td>\n",
       "      <td>25</td>\n",
       "      <td>7.440476</td>\n",
       "      <td>108</td>\n",
       "      <td>Faltante por reposición INTERNA</td>\n",
       "    </tr>\n",
       "    <tr>\n",
       "      <td>6</td>\n",
       "      <td>22</td>\n",
       "      <td>6.547619</td>\n",
       "      <td>450</td>\n",
       "      <td>Otros problemas con el proveedor</td>\n",
       "    </tr>\n",
       "    <tr>\n",
       "      <td>7</td>\n",
       "      <td>17</td>\n",
       "      <td>5.059524</td>\n",
       "      <td>250</td>\n",
       "      <td>Otros problemas del CD</td>\n",
       "    </tr>\n",
       "    <tr>\n",
       "      <td>8</td>\n",
       "      <td>13</td>\n",
       "      <td>3.869048</td>\n",
       "      <td>111</td>\n",
       "      <td>Falso stock negativo en el local</td>\n",
       "    </tr>\n",
       "    <tr>\n",
       "      <td>9</td>\n",
       "      <td>9</td>\n",
       "      <td>2.678571</td>\n",
       "      <td>107</td>\n",
       "      <td>Faltante por reposición EXTERNA</td>\n",
       "    </tr>\n",
       "    <tr>\n",
       "      <td>10</td>\n",
       "      <td>9</td>\n",
       "      <td>2.678571</td>\n",
       "      <td>207</td>\n",
       "      <td>Orden de compra pendiente de entrega a la tienda</td>\n",
       "    </tr>\n",
       "    <tr>\n",
       "      <td>11</td>\n",
       "      <td>6</td>\n",
       "      <td>1.785714</td>\n",
       "      <td>100</td>\n",
       "      <td>El contacto del local desconocía la falta del ...</td>\n",
       "    </tr>\n",
       "    <tr>\n",
       "      <td>12</td>\n",
       "      <td>2</td>\n",
       "      <td>0.595238</td>\n",
       "      <td>200</td>\n",
       "      <td>El CD no entregó (general - Mercadería en el CD)</td>\n",
       "    </tr>\n",
       "    <tr>\n",
       "      <td>13</td>\n",
       "      <td>1</td>\n",
       "      <td>0.297619</td>\n",
       "      <td>106</td>\n",
       "      <td>Producto con otra ubicación</td>\n",
       "    </tr>\n",
       "    <tr>\n",
       "      <td>14</td>\n",
       "      <td>1</td>\n",
       "      <td>0.297619</td>\n",
       "      <td>350</td>\n",
       "      <td>Otros problemas de la Central de Compras</td>\n",
       "    </tr>\n",
       "  </tbody>\n",
       "</table>\n",
       "</div>"
      ],
      "text/plain": [
       "    IDRENGLON  Porcentaje_total  Detalle  \\\n",
       "0          78         23.214286      101   \n",
       "1          47         13.988095      103   \n",
       "2          44         13.095238      407   \n",
       "3          32          9.523810      102   \n",
       "4          30          8.928571      400   \n",
       "5          25          7.440476      108   \n",
       "6          22          6.547619      450   \n",
       "7          17          5.059524      250   \n",
       "8          13          3.869048      111   \n",
       "9           9          2.678571      107   \n",
       "10          9          2.678571      207   \n",
       "11          6          1.785714      100   \n",
       "12          2          0.595238      200   \n",
       "13          1          0.297619      106   \n",
       "14          1          0.297619      350   \n",
       "\n",
       "                                            fechaAlta  \n",
       "0                    Falso stock positivo en el local  \n",
       "1                             Mercadería rota/vencida  \n",
       "2   Pedido pendiente de entrega del proveedor al l...  \n",
       "3                       El local no realizó el pedido  \n",
       "4                   El proveedor no entregó (general)  \n",
       "5                     Faltante por reposición INTERNA  \n",
       "6                    Otros problemas con el proveedor  \n",
       "7                              Otros problemas del CD  \n",
       "8                    Falso stock negativo en el local  \n",
       "9                     Faltante por reposición EXTERNA  \n",
       "10   Orden de compra pendiente de entrega a la tienda  \n",
       "11  El contacto del local desconocía la falta del ...  \n",
       "12   El CD no entregó (general - Mercadería en el CD)  \n",
       "13                        Producto con otra ubicación  \n",
       "14           Otros problemas de la Central de Compras  "
      ]
     },
     "execution_count": 24,
     "metadata": {},
     "output_type": "execute_result"
    }
   ],
   "source": [
    "Motivo_pan"
   ]
  },
  {
   "cell_type": "code",
   "execution_count": 25,
   "metadata": {},
   "outputs": [
    {
     "name": "stderr",
     "output_type": "stream",
     "text": [
      "C:\\Users\\gabri\\Anaconda3\\lib\\site-packages\\pandas\\core\\frame.py:4263: SettingWithCopyWarning: \n",
      "A value is trying to be set on a copy of a slice from a DataFrame\n",
      "\n",
      "See the caveats in the documentation: http://pandas.pydata.org/pandas-docs/stable/user_guide/indexing.html#returning-a-view-versus-a-copy\n",
      "  method=method,\n"
     ]
    }
   ],
   "source": [
    "Categoria_panificados.replace({'STOCK_CD': \"S/D\"},0,inplace=True)"
   ]
  },
  {
   "cell_type": "code",
   "execution_count": 26,
   "metadata": {},
   "outputs": [
    {
     "name": "stderr",
     "output_type": "stream",
     "text": [
      "C:\\Users\\gabri\\Anaconda3\\lib\\site-packages\\ipykernel_launcher.py:1: SettingWithCopyWarning: \n",
      "A value is trying to be set on a copy of a slice from a DataFrame.\n",
      "Try using .loc[row_indexer,col_indexer] = value instead\n",
      "\n",
      "See the caveats in the documentation: http://pandas.pydata.org/pandas-docs/stable/user_guide/indexing.html#returning-a-view-versus-a-copy\n",
      "  \"\"\"Entry point for launching an IPython kernel.\n"
     ]
    }
   ],
   "source": [
    "Categoria_panificados['STOCK_CD'] =Categoria_panificados['STOCK_CD'].apply(lambda x: int(x))"
   ]
  },
  {
   "cell_type": "code",
   "execution_count": 27,
   "metadata": {},
   "outputs": [
    {
     "data": {
      "image/png": "[encoded data removed]",
      "text/plain": [
       "<Figure size 432x288 with 1 Axes>"
      ]
     },
     "metadata": {
      "needs_background": "light"
     },
     "output_type": "display_data"
    }
   ],
   "source": [
    "ay = sns.boxplot(y = Categoria_panificados['STOCK_CD'], data = Categoria_panificados)"
   ]
  },
  {
   "cell_type": "code",
   "execution_count": 28,
   "metadata": {},
   "outputs": [
    {
     "name": "stderr",
     "output_type": "stream",
     "text": [
      "C:\\Users\\gabri\\Anaconda3\\lib\\site-packages\\pandas\\core\\frame.py:4102: SettingWithCopyWarning: \n",
      "A value is trying to be set on a copy of a slice from a DataFrame\n",
      "\n",
      "See the caveats in the documentation: http://pandas.pydata.org/pandas-docs/stable/user_guide/indexing.html#returning-a-view-versus-a-copy\n",
      "  errors=errors,\n"
     ]
    }
   ],
   "source": [
    "Categoria_panificados.drop(['CAT3','SUB_CAT3','LECTURA','DIASEMANAL'], axis='columns', inplace=True)"
   ]
  },
  {
   "cell_type": "code",
   "execution_count": 29,
   "metadata": {},
   "outputs": [
    {
     "data": {
      "text/plain": [
       "(1756, 19)"
      ]
     },
     "execution_count": 29,
     "metadata": {},
     "output_type": "execute_result"
    }
   ],
   "source": [
    "np.shape(Categoria_panificados)"
   ]
  },
  {
   "cell_type": "code",
   "execution_count": 30,
   "metadata": {},
   "outputs": [
    {
     "name": "stderr",
     "output_type": "stream",
     "text": [
      "C:\\Users\\gabri\\Anaconda3\\lib\\site-packages\\pandas\\core\\frame.py:4263: SettingWithCopyWarning: \n",
      "A value is trying to be set on a copy of a slice from a DataFrame\n",
      "\n",
      "See the caveats in the documentation: http://pandas.pydata.org/pandas-docs/stable/user_guide/indexing.html#returning-a-view-versus-a-copy\n",
      "  method=method,\n"
     ]
    }
   ],
   "source": [
    "Categoria_panificados.replace({'IDROTACION': \"A\"}, int(3), inplace=True)\n",
    "Categoria_panificados.replace({'IDROTACION': \"B\"}, int(2), inplace=True)\n",
    "Categoria_panificados.replace({'IDROTACION': \"C\"}, int(1), inplace=True)"
   ]
  },
  {
   "cell_type": "code",
   "execution_count": 31,
   "metadata": {},
   "outputs": [
    {
     "name": "stderr",
     "output_type": "stream",
     "text": [
      "C:\\Users\\gabri\\Anaconda3\\lib\\site-packages\\pandas\\core\\indexing.py:494: SettingWithCopyWarning: \n",
      "A value is trying to be set on a copy of a slice from a DataFrame.\n",
      "Try using .loc[row_indexer,col_indexer] = value instead\n",
      "\n",
      "See the caveats in the documentation: http://pandas.pydata.org/pandas-docs/stable/user_guide/indexing.html#returning-a-view-versus-a-copy\n",
      "  self.obj[item] = s\n"
     ]
    }
   ],
   "source": [
    "Categoria_panificados.loc[Categoria_panificados['STOCK_CD'] < 0 , 'STOCK_CD'] = 0"
   ]
  },
  {
   "cell_type": "code",
   "execution_count": 32,
   "metadata": {},
   "outputs": [
    {
     "data": {
      "image/png": "[encoded data removed]",
      "text/plain": [
       "<Figure size 432x288 with 1 Axes>"
      ]
     },
     "metadata": {
      "needs_background": "light"
     },
     "output_type": "display_data"
    }
   ],
   "source": [
    "ay2 = sns.boxplot(y = Categoria_panificados['STOCK_CD'], data = Categoria_panificados)"
   ]
  },
  {
   "cell_type": "code",
   "execution_count": 33,
   "metadata": {},
   "outputs": [
    {
     "data": {
      "text/plain": [
       "{'whiskers': [<matplotlib.lines.Line2D at 0x24c5e166e08>,\n",
       "  <matplotlib.lines.Line2D at 0x24c5e171948>],\n",
       " 'caps': [<matplotlib.lines.Line2D at 0x24c5e171f08>,\n",
       "  <matplotlib.lines.Line2D at 0x24c5e176888>],\n",
       " 'boxes': [<matplotlib.lines.Line2D at 0x24c5e16d808>],\n",
       " 'medians': [<matplotlib.lines.Line2D at 0x24c5e176f08>],\n",
       " 'fliers': [<matplotlib.lines.Line2D at 0x24c5e176fc8>],\n",
       " 'means': []}"
      ]
     },
     "execution_count": 33,
     "metadata": {},
     "output_type": "execute_result"
    },
    {
     "data": {
      "image/png": "[encoded data removed]",
      "text/plain": [
       "<Figure size 432x288 with 1 Axes>"
      ]
     },
     "metadata": {
      "needs_background": "light"
     },
     "output_type": "display_data"
    }
   ],
   "source": [
    "plt.boxplot(Categoria_panificados['STOCK_CD'])  "
   ]
  },
  {
   "cell_type": "code",
   "execution_count": 34,
   "metadata": {},
   "outputs": [],
   "source": [
    "Categoria_panificados.to_excel(r'C:\\Users\\gabri\\Desktop\\Ciencia de datos\\Panificados 2019\\Categoria panificados.xlsx')"
   ]
  },
  {
   "cell_type": "code",
   "execution_count": null,
   "metadata": {},
   "outputs": [],
   "source": []
  }
 ],
 "metadata": {
  "kernelspec": {
   "display_name": "Python 3",
   "language": "python",
   "name": "python3"
  },
  "language_info": {
   "codemirror_mode": {
    "name": "ipython",
    "version": 3
   },
   "file_extension": ".py",
   "mimetype": "text/x-python",
   "name": "python",
   "nbconvert_exporter": "python",
   "pygments_lexer": "ipython3",
   "version": "3.7.3"
  }
 },
 "nbformat": 4,
 "nbformat_minor": 2
}
